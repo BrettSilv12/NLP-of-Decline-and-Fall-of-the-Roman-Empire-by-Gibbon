{
  "cells": [
    {
      "cell_type": "markdown",
      "metadata": {
        "id": "WyhyGVMc8TGi"
      },
      "source": [
        "## Imports and Installs"
      ]
    },
    {
      "cell_type": "code",
      "execution_count": null,
      "metadata": {
        "id": "ZovViq_BxWfl"
      },
      "outputs": [],
      "source": [
        "# installs\n",
        "%%capture\n",
        "!pip install scattertext"
      ]
    },
    {
      "cell_type": "code",
      "execution_count": null,
      "metadata": {
        "id": "Z4bCFyUaJ1cA"
      },
      "outputs": [],
      "source": [
        "# imports\n",
        "%%capture\n",
        "import nltk\n",
        "from nltk import word_tokenize\n",
        "from nltk.corpus.reader.plaintext import PlaintextCorpusReader\n",
        "nltk.download('punkt')\n",
        "import matplotlib.pyplot as plt\n",
        "from nltk.corpus import stopwords\n",
        "nltk.download('stopwords')\n",
        "from nltk.stem import WordNetLemmatizer\n",
        "nltk.download('wordnet')\n",
        "from sklearn.feature_extraction.text import TfidfVectorizer\n",
        "from sklearn.feature_extraction.text import CountVectorizer\n",
        "from sklearn.decomposition import NMF\n",
        "from sklearn.decomposition import LatentDirichletAllocation\n",
        "import pandas as pd\n",
        "import spacy\n",
        "import scattertext as st\n",
        "from IPython.core.display import HTML\n",
        "from google.colab import files\n",
        "from bs4 import BeautifulSoup\n",
        "import spacy\n",
        "import pickle\n",
        "import plotly.express as px\n",
        "import pandas as pd\n",
        "import numpy as np\n",
        "import re\n",
        "from IPython.core.display import HTML"
      ]
    },
    {
      "cell_type": "code",
      "execution_count": null,
      "metadata": {
        "colab": {
          "base_uri": "https://localhost:8080/"
        },
        "id": "qrNrvxu5Ys-g",
        "outputId": "f28e775b-2fcf-48d1-a030-762ff39d7e2b"
      },
      "outputs": [
        {
          "name": "stdout",
          "output_type": "stream",
          "text": [
            "--2023-07-05 19:05:05--  https://raw.githubusercontent.com/gregorycrane/DHFall2021/master/texts/bury-all.xml\n",
            "Resolving raw.githubusercontent.com (raw.githubusercontent.com)... 185.199.110.133, 185.199.108.133, 185.199.111.133, ...\n",
            "Connecting to raw.githubusercontent.com (raw.githubusercontent.com)|185.199.110.133|:443... connected.\n",
            "HTTP request sent, awaiting response... 200 OK\n",
            "Length: 12126740 (12M) [text/plain]\n",
            "Saving to: ‘bury-all.xml.1’\n",
            "\n",
            "\rbury-all.xml.1        0%[                    ]       0  --.-KB/s               \rbury-all.xml.1      100%[===================>]  11.56M  --.-KB/s    in 0.1s    \n",
            "\n",
            "2023-07-05 19:05:05 (109 MB/s) - ‘bury-all.xml.1’ saved [12126740/12126740]\n",
            "\n",
            "fatal: destination path '18th-century-historians' already exists and is not an empty directory.\n",
            "--2023-07-05 19:05:05--  https://raw.githubusercontent.com/pnadelofficial/FallDHCourseMaterials/main/gibbonfortm.xml\n",
            "Resolving raw.githubusercontent.com (raw.githubusercontent.com)... 185.199.108.133, 185.199.109.133, 185.199.110.133, ...\n",
            "Connecting to raw.githubusercontent.com (raw.githubusercontent.com)|185.199.108.133|:443... connected.\n",
            "HTTP request sent, awaiting response... 200 OK\n",
            "Length: 10542769 (10M) [text/plain]\n",
            "Saving to: ‘gibbonfortm.xml.1’\n",
            "\n",
            "gibbonfortm.xml.1   100%[===================>]  10.05M  --.-KB/s    in 0.1s    \n",
            "\n",
            "2023-07-05 19:05:05 (99.9 MB/s) - ‘gibbonfortm.xml.1’ saved [10542769/10542769]\n",
            "\n"
          ]
        }
      ],
      "source": [
        "#Here we will import all relevant source texts\n",
        "!wget https://raw.githubusercontent.com/gregorycrane/DHFall2021/master/texts/bury-all.xml\n",
        "!git clone https://github.com/msaxton/18th-century-historians.git\n",
        "!wget https://raw.githubusercontent.com/pnadelofficial/FallDHCourseMaterials/main/gibbonfortm.xml"
      ]
    },
    {
      "cell_type": "markdown",
      "metadata": {
        "id": "FnOPTkuJ40xc"
      },
      "source": [
        "## NER By Chapter using XML\n",
        "We can extract placenames per chapter, and plot their longitudes and latitudes on a map, giving us an idea of which locations are mentioned in each chapter"
      ]
    },
    {
      "cell_type": "code",
      "execution_count": null,
      "metadata": {
        "colab": {
          "base_uri": "https://localhost:8080/"
        },
        "id": "8Gnu7WN85EBA",
        "outputId": "2480652b-c445-4168-f0be-c4d1ecc4865c"
      },
      "outputs": [
        {
          "name": "stderr",
          "output_type": "stream",
          "text": [
            "/usr/local/lib/python3.10/dist-packages/bs4/builder/__init__.py:545: XMLParsedAsHTMLWarning: It looks like you're parsing an XML document using an HTML parser. If this really is an HTML document (maybe it's XHTML?), you can ignore or filter this warning. If it's XML, you should know that using an XML parser will be more reliable. To parse this document as XML, make sure you have the lxml package installed, and pass the keyword argument `features=\"xml\"` into the BeautifulSoup constructor.\n",
            "  warnings.warn(\n"
          ]
        }
      ],
      "source": [
        "#import our spacy function and open our source xml\n",
        "nlp = spacy.load('en_core_web_sm')\n",
        "\n",
        "with open('gibbonfortm.xml') as gibbon_fh:\n",
        "  soup = BeautifulSoup(gibbon_fh, 'lxml')"
      ]
    },
    {
      "cell_type": "code",
      "execution_count": null,
      "metadata": {
        "id": "U6n0dfp65uBS"
      },
      "outputs": [],
      "source": [
        "#Parse our xml\n",
        "div_list = soup.findAll('div')\n",
        "\n",
        "chapter_list = []\n",
        "for div in div_list:\n",
        "  div_type = div.get('subtype')\n",
        "  if div_type == 'chapter':\n",
        "    chapter_list.append(div)"
      ]
    },
    {
      "cell_type": "code",
      "execution_count": null,
      "metadata": {
        "id": "7FH_GCt452Xi"
      },
      "outputs": [],
      "source": [
        "#Grab our individual chapters to analyze\n",
        "chapter_number1 = \"31\"\n",
        "chapter_number2 = \"54\"\n",
        "\n",
        "for i in range(len(chapter_list)):\n",
        "  chap_num = chapter_list[i].get('n')\n",
        "  if chap_num == chapter_number1:\n",
        "    text1 = chapter_list[i].get_text()\n",
        "  if chap_num == chapter_number2:\n",
        "    text2 = chapter_list[i].get_text()\n",
        "\n",
        "#Ensure our chapters were correctly accessed\n",
        "if ('text1' not in vars()) or ('text2' not in vars()):\n",
        "    raise Exception(\"Invalid Chapter Numbers. Try Again\")"
      ]
    },
    {
      "cell_type": "code",
      "execution_count": null,
      "metadata": {
        "id": "-HPW8D3Z8BFD"
      },
      "outputs": [],
      "source": [
        "#Clean our chapters\n",
        "full_text1 = text1.replace('\\n', ' ')\n",
        "full_text2 = text2.replace('\\n', ' ')"
      ]
    },
    {
      "cell_type": "code",
      "execution_count": null,
      "metadata": {
        "id": "itaTbPTo-CtH"
      },
      "outputs": [],
      "source": [
        "#function to isolate placenames per chapter\n",
        "def get_placenames(chapter):\n",
        "  gib_doc = nlp(chapter)\n",
        "\n",
        "  gib_ents = []\n",
        "  for ent in gib_doc.ents:\n",
        "    gib_ents.append((ent.text, ent.label_))\n",
        "\n",
        "  #isolate placenames\n",
        "  places = []\n",
        "  for ne in gib_ents:\n",
        "    if ne[1] == 'GPE':\n",
        "      places.append(ne)\n",
        "    elif ne[1] == 'LOC':\n",
        "      places.append(ne)\n",
        "\n",
        "  #remove duplicates\n",
        "  place_names_duplicates = [x[0] for x in places]\n",
        "  place_names = []\n",
        "\n",
        "  for x in place_names_duplicates:\n",
        "    if x not in place_names:\n",
        "      place_names.append(x)\n",
        "    else:\n",
        "      continue\n",
        "\n",
        "  #display how many times each placename occurred in the chapter\n",
        "  place_counts = []\n",
        "  for place in place_names:\n",
        "    place_counts.append(place_names_duplicates.count(place))\n",
        "  counts_dict = dict(zip(place_names, place_counts))\n",
        "\n",
        "  return (place_names, counts_dict)"
      ]
    },
    {
      "cell_type": "code",
      "execution_count": null,
      "metadata": {
        "id": "X2C2ruM8ANji"
      },
      "outputs": [],
      "source": [
        "(ch1, ch1_counts) = get_placenames(full_text1)\n",
        "(ch2, ch2_counts) = get_placenames(full_text2)"
      ]
    },
    {
      "cell_type": "code",
      "execution_count": null,
      "metadata": {
        "id": "CCWaKXFtG8B2"
      },
      "outputs": [],
      "source": [
        "#Pre-populated csvs with chapter locations, needed to be used while API mentioned below is down\n",
        "try:\n",
        "  place_df1 = pd.read_csv('places31.csv')\n",
        "  place_df2 = pd.read_csv('places54.csv')\n",
        "except:\n",
        "  place_df1 = pd.DataFrame(columns = ['Place', 'Counts', 'Latitude', 'Longitude'])\n",
        "  place_df2 = pd.DataFrame(columns = ['Place', 'Counts', 'Latitude', 'Longitude'])"
      ]
    },
    {
      "cell_type": "code",
      "execution_count": null,
      "metadata": {
        "id": "bA81yaWjS9f9"
      },
      "outputs": [],
      "source": [
        "#function to add to our locations df\n",
        "def get_pleiades_locs(countdf, df_filtered):\n",
        "  df_holder = pd.DataFrame(columns = ['Place', 'Counts', 'Latitude', 'Longitude'])\n",
        "  for pn in countdf:\n",
        "    holder = df_filtered[df_filtered['title'] == pn].head(1)\n",
        "    if not holder.empty:\n",
        "      if not holder['reprLong'].isnull().values.any():\n",
        "        place = holder.values[0][-1]\n",
        "        latitude = holder.values[0][-3]\n",
        "        longitude = holder.values[0][-2]\n",
        "        count = countdf.get(pn)\n",
        "        list_row = [place, count, latitude, longitude]\n",
        "        df_holder.loc[len(df_holder)] = list_row\n",
        "  return df_holder"
      ]
    },
    {
      "cell_type": "code",
      "execution_count": null,
      "metadata": {
        "colab": {
          "base_uri": "https://localhost:8080/"
        },
        "id": "HkmmAH3SI8-m",
        "outputId": "d1fc13a9-5cd0-474f-b40f-33dc8e6f19d7"
      },
      "outputs": [
        {
          "name": "stdout",
          "output_type": "stream",
          "text": [
            "--2023-07-05 19:05:15--  https://raw.githubusercontent.com/pnadelofficial/LitVis/main/data/pleiades/pleiades-names.csv\n",
            "Resolving raw.githubusercontent.com (raw.githubusercontent.com)... 185.199.111.133, 185.199.110.133, 185.199.109.133, ...\n",
            "Connecting to raw.githubusercontent.com (raw.githubusercontent.com)|185.199.111.133|:443... connected.\n",
            "HTTP request sent, awaiting response... 200 OK\n",
            "Length: 13700788 (13M) [text/plain]\n",
            "Saving to: ‘pleiades-names.csv.1’\n",
            "\n",
            "\rpleiades-names.csv.   0%[                    ]       0  --.-KB/s               \rpleiades-names.csv. 100%[===================>]  13.07M  --.-KB/s    in 0.1s    \n",
            "\n",
            "2023-07-05 19:05:15 (114 MB/s) - ‘pleiades-names.csv.1’ saved [13700788/13700788]\n",
            "\n"
          ]
        },
        {
          "name": "stderr",
          "output_type": "stream",
          "text": [
            "<ipython-input-12-4191a75fa627>:6: FutureWarning: The frame.append method is deprecated and will be removed from pandas in a future version. Use pandas.concat instead.\n",
            "  place_df1 = place_df1.append(get_pleiades_locs(ch1_counts, df_filtered)).dropna().reset_index(drop=True)\n",
            "<ipython-input-12-4191a75fa627>:7: FutureWarning: The frame.append method is deprecated and will be removed from pandas in a future version. Use pandas.concat instead.\n",
            "  place_df2 = place_df2.append(get_pleiades_locs(ch2_counts, df_filtered)).dropna().reset_index(drop=True)\n"
          ]
        }
      ],
      "source": [
        "#add locations to these DFs using the pleiades api\n",
        "!wget https://raw.githubusercontent.com/pnadelofficial/LitVis/main/data/pleiades/pleiades-names.csv\n",
        "df = pd.read_csv('/content/pleiades-names.csv')\n",
        "df_filtered = df[[\"nameAttested\", \"nameLanguage\", \"nameTransliterated\", \"reprLat\", \"reprLong\", \"title\"]]\n",
        "\n",
        "place_df1 = place_df1.append(get_pleiades_locs(ch1_counts, df_filtered)).dropna().reset_index(drop=True)\n",
        "place_df2 = place_df2.append(get_pleiades_locs(ch2_counts, df_filtered)).dropna().reset_index(drop=True)"
      ]
    },
    {
      "cell_type": "code",
      "execution_count": null,
      "metadata": {
        "colab": {
          "base_uri": "https://localhost:8080/",
          "height": 542
        },
        "id": "ytRmx_fWH6D-",
        "outputId": "2b8c9dd4-12aa-4e43-9057-d0e6ff7d8630"
      },
      "outputs": [
        {
          "data": {
            "text/html": [
              "<html>\n",
              "<head><meta charset=\"utf-8\" /></head>\n",
              "<body>\n",
              "    <div>            <script src=\"https://cdnjs.cloudflare.com/ajax/libs/mathjax/2.7.5/MathJax.js?config=TeX-AMS-MML_SVG\"></script><script type=\"text/javascript\">if (window.MathJax && window.MathJax.Hub && window.MathJax.Hub.Config) {window.MathJax.Hub.Config({SVG: {font: \"STIX-Web\"}});}</script>                <script type=\"text/javascript\">window.PlotlyConfig = {MathJaxConfig: 'local'};</script>\n",
              "        <script src=\"https://cdn.plot.ly/plotly-2.18.2.min.js\"></script>                <div id=\"2f9f4a91-b797-4db7-b9db-2c17f0b8496c\" class=\"plotly-graph-div\" style=\"height:525px; width:100%;\"></div>            <script type=\"text/javascript\">                                    window.PLOTLYENV=window.PLOTLYENV || {};                                    if (document.getElementById(\"2f9f4a91-b797-4db7-b9db-2c17f0b8496c\")) {                    Plotly.newPlot(                        \"2f9f4a91-b797-4db7-b9db-2c17f0b8496c\",                        [{\"geo\":\"geo\",\"hovertemplate\":\"<b>%{hovertext}</b><br><br>size=%{marker.size}<br>Latitude=%{lat}<br>Longitude=%{lon}<extra></extra>\",\"hovertext\":[\"Umbria\",\"Apulia\",\"Praeneste\",\"Puteoli\",\"Hercules\",\"Lucania\",\"Campania\",\"Numidia\",\"Asia\",\"Ostia\",\"Noricum\",\"Venetia\",\"Pannonia\",\"Jerusalem\",\"Nola\",\"Charybdis\",\"Samnium\",\"Calabria\",\"Pyrenees\",\"Valentia\",\"Corduba\",\"Caledonia\",\"Armorica\"],\"lat\":[43.75,41.25,41.8394835,40.825838,37.5,40.75,41.25,36.25,38.25,41.754855,46.5,45.75,46.5,31.7774646,40.926823,38.260268,41.75,40.75,42.67,39.470371,37.884683,57.5,48.5],\"legendgroup\":\"\",\"lon\":[12.75,15.75,12.89242565,14.1217415,-0.5,15.75,14.25,6.25,27.25,12.287656,12.5,11.25,15.5,35.23474835,14.524545,15.660384,14.25,17.75,1.0,-0.376813,-4.779171,-4.5,-3.5],\"marker\":{\"color\":\"#636efa\",\"size\":[1,2,1,1,2,2,6,1,2,2,2,1,1,1,4,1,1,1,7,1,1,1,3],\"sizemode\":\"area\",\"sizeref\":0.0175,\"symbol\":\"circle\"},\"mode\":\"markers\",\"name\":\"\",\"showlegend\":false,\"type\":\"scattergeo\"}],                        {\"template\":{\"data\":{\"histogram2dcontour\":[{\"type\":\"histogram2dcontour\",\"colorbar\":{\"outlinewidth\":0,\"ticks\":\"\"},\"colorscale\":[[0.0,\"#0d0887\"],[0.1111111111111111,\"#46039f\"],[0.2222222222222222,\"#7201a8\"],[0.3333333333333333,\"#9c179e\"],[0.4444444444444444,\"#bd3786\"],[0.5555555555555556,\"#d8576b\"],[0.6666666666666666,\"#ed7953\"],[0.7777777777777778,\"#fb9f3a\"],[0.8888888888888888,\"#fdca26\"],[1.0,\"#f0f921\"]]}],\"choropleth\":[{\"type\":\"choropleth\",\"colorbar\":{\"outlinewidth\":0,\"ticks\":\"\"}}],\"histogram2d\":[{\"type\":\"histogram2d\",\"colorbar\":{\"outlinewidth\":0,\"ticks\":\"\"},\"colorscale\":[[0.0,\"#0d0887\"],[0.1111111111111111,\"#46039f\"],[0.2222222222222222,\"#7201a8\"],[0.3333333333333333,\"#9c179e\"],[0.4444444444444444,\"#bd3786\"],[0.5555555555555556,\"#d8576b\"],[0.6666666666666666,\"#ed7953\"],[0.7777777777777778,\"#fb9f3a\"],[0.8888888888888888,\"#fdca26\"],[1.0,\"#f0f921\"]]}],\"heatmap\":[{\"type\":\"heatmap\",\"colorbar\":{\"outlinewidth\":0,\"ticks\":\"\"},\"colorscale\":[[0.0,\"#0d0887\"],[0.1111111111111111,\"#46039f\"],[0.2222222222222222,\"#7201a8\"],[0.3333333333333333,\"#9c179e\"],[0.4444444444444444,\"#bd3786\"],[0.5555555555555556,\"#d8576b\"],[0.6666666666666666,\"#ed7953\"],[0.7777777777777778,\"#fb9f3a\"],[0.8888888888888888,\"#fdca26\"],[1.0,\"#f0f921\"]]}],\"heatmapgl\":[{\"type\":\"heatmapgl\",\"colorbar\":{\"outlinewidth\":0,\"ticks\":\"\"},\"colorscale\":[[0.0,\"#0d0887\"],[0.1111111111111111,\"#46039f\"],[0.2222222222222222,\"#7201a8\"],[0.3333333333333333,\"#9c179e\"],[0.4444444444444444,\"#bd3786\"],[0.5555555555555556,\"#d8576b\"],[0.6666666666666666,\"#ed7953\"],[0.7777777777777778,\"#fb9f3a\"],[0.8888888888888888,\"#fdca26\"],[1.0,\"#f0f921\"]]}],\"contourcarpet\":[{\"type\":\"contourcarpet\",\"colorbar\":{\"outlinewidth\":0,\"ticks\":\"\"}}],\"contour\":[{\"type\":\"contour\",\"colorbar\":{\"outlinewidth\":0,\"ticks\":\"\"},\"colorscale\":[[0.0,\"#0d0887\"],[0.1111111111111111,\"#46039f\"],[0.2222222222222222,\"#7201a8\"],[0.3333333333333333,\"#9c179e\"],[0.4444444444444444,\"#bd3786\"],[0.5555555555555556,\"#d8576b\"],[0.6666666666666666,\"#ed7953\"],[0.7777777777777778,\"#fb9f3a\"],[0.8888888888888888,\"#fdca26\"],[1.0,\"#f0f921\"]]}],\"surface\":[{\"type\":\"surface\",\"colorbar\":{\"outlinewidth\":0,\"ticks\":\"\"},\"colorscale\":[[0.0,\"#0d0887\"],[0.1111111111111111,\"#46039f\"],[0.2222222222222222,\"#7201a8\"],[0.3333333333333333,\"#9c179e\"],[0.4444444444444444,\"#bd3786\"],[0.5555555555555556,\"#d8576b\"],[0.6666666666666666,\"#ed7953\"],[0.7777777777777778,\"#fb9f3a\"],[0.8888888888888888,\"#fdca26\"],[1.0,\"#f0f921\"]]}],\"mesh3d\":[{\"type\":\"mesh3d\",\"colorbar\":{\"outlinewidth\":0,\"ticks\":\"\"}}],\"scatter\":[{\"fillpattern\":{\"fillmode\":\"overlay\",\"size\":10,\"solidity\":0.2},\"type\":\"scatter\"}],\"parcoords\":[{\"type\":\"parcoords\",\"line\":{\"colorbar\":{\"outlinewidth\":0,\"ticks\":\"\"}}}],\"scatterpolargl\":[{\"type\":\"scatterpolargl\",\"marker\":{\"colorbar\":{\"outlinewidth\":0,\"ticks\":\"\"}}}],\"bar\":[{\"error_x\":{\"color\":\"#2a3f5f\"},\"error_y\":{\"color\":\"#2a3f5f\"},\"marker\":{\"line\":{\"color\":\"#E5ECF6\",\"width\":0.5},\"pattern\":{\"fillmode\":\"overlay\",\"size\":10,\"solidity\":0.2}},\"type\":\"bar\"}],\"scattergeo\":[{\"type\":\"scattergeo\",\"marker\":{\"colorbar\":{\"outlinewidth\":0,\"ticks\":\"\"}}}],\"scatterpolar\":[{\"type\":\"scatterpolar\",\"marker\":{\"colorbar\":{\"outlinewidth\":0,\"ticks\":\"\"}}}],\"histogram\":[{\"marker\":{\"pattern\":{\"fillmode\":\"overlay\",\"size\":10,\"solidity\":0.2}},\"type\":\"histogram\"}],\"scattergl\":[{\"type\":\"scattergl\",\"marker\":{\"colorbar\":{\"outlinewidth\":0,\"ticks\":\"\"}}}],\"scatter3d\":[{\"type\":\"scatter3d\",\"line\":{\"colorbar\":{\"outlinewidth\":0,\"ticks\":\"\"}},\"marker\":{\"colorbar\":{\"outlinewidth\":0,\"ticks\":\"\"}}}],\"scattermapbox\":[{\"type\":\"scattermapbox\",\"marker\":{\"colorbar\":{\"outlinewidth\":0,\"ticks\":\"\"}}}],\"scatterternary\":[{\"type\":\"scatterternary\",\"marker\":{\"colorbar\":{\"outlinewidth\":0,\"ticks\":\"\"}}}],\"scattercarpet\":[{\"type\":\"scattercarpet\",\"marker\":{\"colorbar\":{\"outlinewidth\":0,\"ticks\":\"\"}}}],\"carpet\":[{\"aaxis\":{\"endlinecolor\":\"#2a3f5f\",\"gridcolor\":\"white\",\"linecolor\":\"white\",\"minorgridcolor\":\"white\",\"startlinecolor\":\"#2a3f5f\"},\"baxis\":{\"endlinecolor\":\"#2a3f5f\",\"gridcolor\":\"white\",\"linecolor\":\"white\",\"minorgridcolor\":\"white\",\"startlinecolor\":\"#2a3f5f\"},\"type\":\"carpet\"}],\"table\":[{\"cells\":{\"fill\":{\"color\":\"#EBF0F8\"},\"line\":{\"color\":\"white\"}},\"header\":{\"fill\":{\"color\":\"#C8D4E3\"},\"line\":{\"color\":\"white\"}},\"type\":\"table\"}],\"barpolar\":[{\"marker\":{\"line\":{\"color\":\"#E5ECF6\",\"width\":0.5},\"pattern\":{\"fillmode\":\"overlay\",\"size\":10,\"solidity\":0.2}},\"type\":\"barpolar\"}],\"pie\":[{\"automargin\":true,\"type\":\"pie\"}]},\"layout\":{\"autotypenumbers\":\"strict\",\"colorway\":[\"#636efa\",\"#EF553B\",\"#00cc96\",\"#ab63fa\",\"#FFA15A\",\"#19d3f3\",\"#FF6692\",\"#B6E880\",\"#FF97FF\",\"#FECB52\"],\"font\":{\"color\":\"#2a3f5f\"},\"hovermode\":\"closest\",\"hoverlabel\":{\"align\":\"left\"},\"paper_bgcolor\":\"white\",\"plot_bgcolor\":\"#E5ECF6\",\"polar\":{\"bgcolor\":\"#E5ECF6\",\"angularaxis\":{\"gridcolor\":\"white\",\"linecolor\":\"white\",\"ticks\":\"\"},\"radialaxis\":{\"gridcolor\":\"white\",\"linecolor\":\"white\",\"ticks\":\"\"}},\"ternary\":{\"bgcolor\":\"#E5ECF6\",\"aaxis\":{\"gridcolor\":\"white\",\"linecolor\":\"white\",\"ticks\":\"\"},\"baxis\":{\"gridcolor\":\"white\",\"linecolor\":\"white\",\"ticks\":\"\"},\"caxis\":{\"gridcolor\":\"white\",\"linecolor\":\"white\",\"ticks\":\"\"}},\"coloraxis\":{\"colorbar\":{\"outlinewidth\":0,\"ticks\":\"\"}},\"colorscale\":{\"sequential\":[[0.0,\"#0d0887\"],[0.1111111111111111,\"#46039f\"],[0.2222222222222222,\"#7201a8\"],[0.3333333333333333,\"#9c179e\"],[0.4444444444444444,\"#bd3786\"],[0.5555555555555556,\"#d8576b\"],[0.6666666666666666,\"#ed7953\"],[0.7777777777777778,\"#fb9f3a\"],[0.8888888888888888,\"#fdca26\"],[1.0,\"#f0f921\"]],\"sequentialminus\":[[0.0,\"#0d0887\"],[0.1111111111111111,\"#46039f\"],[0.2222222222222222,\"#7201a8\"],[0.3333333333333333,\"#9c179e\"],[0.4444444444444444,\"#bd3786\"],[0.5555555555555556,\"#d8576b\"],[0.6666666666666666,\"#ed7953\"],[0.7777777777777778,\"#fb9f3a\"],[0.8888888888888888,\"#fdca26\"],[1.0,\"#f0f921\"]],\"diverging\":[[0,\"#8e0152\"],[0.1,\"#c51b7d\"],[0.2,\"#de77ae\"],[0.3,\"#f1b6da\"],[0.4,\"#fde0ef\"],[0.5,\"#f7f7f7\"],[0.6,\"#e6f5d0\"],[0.7,\"#b8e186\"],[0.8,\"#7fbc41\"],[0.9,\"#4d9221\"],[1,\"#276419\"]]},\"xaxis\":{\"gridcolor\":\"white\",\"linecolor\":\"white\",\"ticks\":\"\",\"title\":{\"standoff\":15},\"zerolinecolor\":\"white\",\"automargin\":true,\"zerolinewidth\":2},\"yaxis\":{\"gridcolor\":\"white\",\"linecolor\":\"white\",\"ticks\":\"\",\"title\":{\"standoff\":15},\"zerolinecolor\":\"white\",\"automargin\":true,\"zerolinewidth\":2},\"scene\":{\"xaxis\":{\"backgroundcolor\":\"#E5ECF6\",\"gridcolor\":\"white\",\"linecolor\":\"white\",\"showbackground\":true,\"ticks\":\"\",\"zerolinecolor\":\"white\",\"gridwidth\":2},\"yaxis\":{\"backgroundcolor\":\"#E5ECF6\",\"gridcolor\":\"white\",\"linecolor\":\"white\",\"showbackground\":true,\"ticks\":\"\",\"zerolinecolor\":\"white\",\"gridwidth\":2},\"zaxis\":{\"backgroundcolor\":\"#E5ECF6\",\"gridcolor\":\"white\",\"linecolor\":\"white\",\"showbackground\":true,\"ticks\":\"\",\"zerolinecolor\":\"white\",\"gridwidth\":2}},\"shapedefaults\":{\"line\":{\"color\":\"#2a3f5f\"}},\"annotationdefaults\":{\"arrowcolor\":\"#2a3f5f\",\"arrowhead\":0,\"arrowwidth\":1},\"geo\":{\"bgcolor\":\"white\",\"landcolor\":\"#E5ECF6\",\"subunitcolor\":\"white\",\"showland\":true,\"showlakes\":true,\"lakecolor\":\"white\"},\"title\":{\"x\":0.05},\"mapbox\":{\"style\":\"light\"}}},\"geo\":{\"domain\":{\"x\":[0.0,1.0],\"y\":[0.0,1.0]},\"center\":{}},\"legend\":{\"tracegroupgap\":0,\"itemsizing\":\"constant\"},\"margin\":{\"t\":60}},                        {\"responsive\": true}                    ).then(function(){\n",
              "                            \n",
              "var gd = document.getElementById('2f9f4a91-b797-4db7-b9db-2c17f0b8496c');\n",
              "var x = new MutationObserver(function (mutations, observer) {{\n",
              "        var display = window.getComputedStyle(gd).display;\n",
              "        if (!display || display === 'none') {{\n",
              "            console.log([gd, 'removed!']);\n",
              "            Plotly.purge(gd);\n",
              "            observer.disconnect();\n",
              "        }}\n",
              "}});\n",
              "\n",
              "// Listen for the removal of the full notebook cells\n",
              "var notebookContainer = gd.closest('#notebook-container');\n",
              "if (notebookContainer) {{\n",
              "    x.observe(notebookContainer, {childList: true});\n",
              "}}\n",
              "\n",
              "// Listen for the clearing of the current output cell\n",
              "var outputEl = gd.closest('.output');\n",
              "if (outputEl) {{\n",
              "    x.observe(outputEl, {childList: true});\n",
              "}}\n",
              "\n",
              "                        })                };                            </script>        </div>\n",
              "</body>\n",
              "</html>"
            ]
          },
          "metadata": {},
          "output_type": "display_data"
        }
      ],
      "source": [
        "#show map of 1st chapter\n",
        "fig = px.scatter_geo(place_df1, lat='Latitude',lon='Longitude', hover_name='Place', size=place_df1['Counts'].tolist())\n",
        "#fig.update_layout(title = 'World map', title_x=0.5)\n",
        "fig.show()"
      ]
    },
    {
      "cell_type": "code",
      "execution_count": null,
      "metadata": {
        "colab": {
          "base_uri": "https://localhost:8080/",
          "height": 542
        },
        "id": "f4TepEGHU3EB",
        "outputId": "af378e62-4332-49a3-d632-3234c1d4fa98"
      },
      "outputs": [
        {
          "data": {
            "text/html": [
              "<html>\n",
              "<head><meta charset=\"utf-8\" /></head>\n",
              "<body>\n",
              "    <div>            <script src=\"https://cdnjs.cloudflare.com/ajax/libs/mathjax/2.7.5/MathJax.js?config=TeX-AMS-MML_SVG\"></script><script type=\"text/javascript\">if (window.MathJax && window.MathJax.Hub && window.MathJax.Hub.Config) {window.MathJax.Hub.Config({SVG: {font: \"STIX-Web\"}});}</script>                <script type=\"text/javascript\">window.PlotlyConfig = {MathJaxConfig: 'local'};</script>\n",
              "        <script src=\"https://cdn.plot.ly/plotly-2.18.2.min.js\"></script>                <div id=\"3a5e35d9-c580-40ac-8a7a-66c7586e1a4c\" class=\"plotly-graph-div\" style=\"height:525px; width:100%;\"></div>            <script type=\"text/javascript\">                                    window.PLOTLYENV=window.PLOTLYENV || {};                                    if (document.getElementById(\"3a5e35d9-c580-40ac-8a7a-66c7586e1a4c\")) {                    Plotly.newPlot(                        \"3a5e35d9-c580-40ac-8a7a-66c7586e1a4c\",                        [{\"geo\":\"geo\",\"hovertemplate\":\"<b>%{hovertext}</b><br><br>size=%{marker.size}<br>Latitude=%{lat}<br>Longitude=%{lon}<extra></extra>\",\"hovertext\":[\"Armenia\",\"Syria\",\"Euphrates\",\"Asia\",\"Nicomedia\",\"Macedonia\",\"Philippopolis\",\"Jerusalem\"],\"lat\":[39.5,37.5,31.5,38.25,40.7651905,41.25,42.145589,31.7774646],\"legendgroup\":\"\",\"lon\":[40.5,37.5,44.5,27.25,29.919887,21.75,24.749474,35.23474835],\"marker\":{\"color\":\"#636efa\",\"size\":[5,2,2,3,1,1,1,1],\"sizemode\":\"area\",\"sizeref\":0.0125,\"symbol\":\"circle\"},\"mode\":\"markers\",\"name\":\"\",\"showlegend\":false,\"type\":\"scattergeo\"}],                        {\"template\":{\"data\":{\"histogram2dcontour\":[{\"type\":\"histogram2dcontour\",\"colorbar\":{\"outlinewidth\":0,\"ticks\":\"\"},\"colorscale\":[[0.0,\"#0d0887\"],[0.1111111111111111,\"#46039f\"],[0.2222222222222222,\"#7201a8\"],[0.3333333333333333,\"#9c179e\"],[0.4444444444444444,\"#bd3786\"],[0.5555555555555556,\"#d8576b\"],[0.6666666666666666,\"#ed7953\"],[0.7777777777777778,\"#fb9f3a\"],[0.8888888888888888,\"#fdca26\"],[1.0,\"#f0f921\"]]}],\"choropleth\":[{\"type\":\"choropleth\",\"colorbar\":{\"outlinewidth\":0,\"ticks\":\"\"}}],\"histogram2d\":[{\"type\":\"histogram2d\",\"colorbar\":{\"outlinewidth\":0,\"ticks\":\"\"},\"colorscale\":[[0.0,\"#0d0887\"],[0.1111111111111111,\"#46039f\"],[0.2222222222222222,\"#7201a8\"],[0.3333333333333333,\"#9c179e\"],[0.4444444444444444,\"#bd3786\"],[0.5555555555555556,\"#d8576b\"],[0.6666666666666666,\"#ed7953\"],[0.7777777777777778,\"#fb9f3a\"],[0.8888888888888888,\"#fdca26\"],[1.0,\"#f0f921\"]]}],\"heatmap\":[{\"type\":\"heatmap\",\"colorbar\":{\"outlinewidth\":0,\"ticks\":\"\"},\"colorscale\":[[0.0,\"#0d0887\"],[0.1111111111111111,\"#46039f\"],[0.2222222222222222,\"#7201a8\"],[0.3333333333333333,\"#9c179e\"],[0.4444444444444444,\"#bd3786\"],[0.5555555555555556,\"#d8576b\"],[0.6666666666666666,\"#ed7953\"],[0.7777777777777778,\"#fb9f3a\"],[0.8888888888888888,\"#fdca26\"],[1.0,\"#f0f921\"]]}],\"heatmapgl\":[{\"type\":\"heatmapgl\",\"colorbar\":{\"outlinewidth\":0,\"ticks\":\"\"},\"colorscale\":[[0.0,\"#0d0887\"],[0.1111111111111111,\"#46039f\"],[0.2222222222222222,\"#7201a8\"],[0.3333333333333333,\"#9c179e\"],[0.4444444444444444,\"#bd3786\"],[0.5555555555555556,\"#d8576b\"],[0.6666666666666666,\"#ed7953\"],[0.7777777777777778,\"#fb9f3a\"],[0.8888888888888888,\"#fdca26\"],[1.0,\"#f0f921\"]]}],\"contourcarpet\":[{\"type\":\"contourcarpet\",\"colorbar\":{\"outlinewidth\":0,\"ticks\":\"\"}}],\"contour\":[{\"type\":\"contour\",\"colorbar\":{\"outlinewidth\":0,\"ticks\":\"\"},\"colorscale\":[[0.0,\"#0d0887\"],[0.1111111111111111,\"#46039f\"],[0.2222222222222222,\"#7201a8\"],[0.3333333333333333,\"#9c179e\"],[0.4444444444444444,\"#bd3786\"],[0.5555555555555556,\"#d8576b\"],[0.6666666666666666,\"#ed7953\"],[0.7777777777777778,\"#fb9f3a\"],[0.8888888888888888,\"#fdca26\"],[1.0,\"#f0f921\"]]}],\"surface\":[{\"type\":\"surface\",\"colorbar\":{\"outlinewidth\":0,\"ticks\":\"\"},\"colorscale\":[[0.0,\"#0d0887\"],[0.1111111111111111,\"#46039f\"],[0.2222222222222222,\"#7201a8\"],[0.3333333333333333,\"#9c179e\"],[0.4444444444444444,\"#bd3786\"],[0.5555555555555556,\"#d8576b\"],[0.6666666666666666,\"#ed7953\"],[0.7777777777777778,\"#fb9f3a\"],[0.8888888888888888,\"#fdca26\"],[1.0,\"#f0f921\"]]}],\"mesh3d\":[{\"type\":\"mesh3d\",\"colorbar\":{\"outlinewidth\":0,\"ticks\":\"\"}}],\"scatter\":[{\"fillpattern\":{\"fillmode\":\"overlay\",\"size\":10,\"solidity\":0.2},\"type\":\"scatter\"}],\"parcoords\":[{\"type\":\"parcoords\",\"line\":{\"colorbar\":{\"outlinewidth\":0,\"ticks\":\"\"}}}],\"scatterpolargl\":[{\"type\":\"scatterpolargl\",\"marker\":{\"colorbar\":{\"outlinewidth\":0,\"ticks\":\"\"}}}],\"bar\":[{\"error_x\":{\"color\":\"#2a3f5f\"},\"error_y\":{\"color\":\"#2a3f5f\"},\"marker\":{\"line\":{\"color\":\"#E5ECF6\",\"width\":0.5},\"pattern\":{\"fillmode\":\"overlay\",\"size\":10,\"solidity\":0.2}},\"type\":\"bar\"}],\"scattergeo\":[{\"type\":\"scattergeo\",\"marker\":{\"colorbar\":{\"outlinewidth\":0,\"ticks\":\"\"}}}],\"scatterpolar\":[{\"type\":\"scatterpolar\",\"marker\":{\"colorbar\":{\"outlinewidth\":0,\"ticks\":\"\"}}}],\"histogram\":[{\"marker\":{\"pattern\":{\"fillmode\":\"overlay\",\"size\":10,\"solidity\":0.2}},\"type\":\"histogram\"}],\"scattergl\":[{\"type\":\"scattergl\",\"marker\":{\"colorbar\":{\"outlinewidth\":0,\"ticks\":\"\"}}}],\"scatter3d\":[{\"type\":\"scatter3d\",\"line\":{\"colorbar\":{\"outlinewidth\":0,\"ticks\":\"\"}},\"marker\":{\"colorbar\":{\"outlinewidth\":0,\"ticks\":\"\"}}}],\"scattermapbox\":[{\"type\":\"scattermapbox\",\"marker\":{\"colorbar\":{\"outlinewidth\":0,\"ticks\":\"\"}}}],\"scatterternary\":[{\"type\":\"scatterternary\",\"marker\":{\"colorbar\":{\"outlinewidth\":0,\"ticks\":\"\"}}}],\"scattercarpet\":[{\"type\":\"scattercarpet\",\"marker\":{\"colorbar\":{\"outlinewidth\":0,\"ticks\":\"\"}}}],\"carpet\":[{\"aaxis\":{\"endlinecolor\":\"#2a3f5f\",\"gridcolor\":\"white\",\"linecolor\":\"white\",\"minorgridcolor\":\"white\",\"startlinecolor\":\"#2a3f5f\"},\"baxis\":{\"endlinecolor\":\"#2a3f5f\",\"gridcolor\":\"white\",\"linecolor\":\"white\",\"minorgridcolor\":\"white\",\"startlinecolor\":\"#2a3f5f\"},\"type\":\"carpet\"}],\"table\":[{\"cells\":{\"fill\":{\"color\":\"#EBF0F8\"},\"line\":{\"color\":\"white\"}},\"header\":{\"fill\":{\"color\":\"#C8D4E3\"},\"line\":{\"color\":\"white\"}},\"type\":\"table\"}],\"barpolar\":[{\"marker\":{\"line\":{\"color\":\"#E5ECF6\",\"width\":0.5},\"pattern\":{\"fillmode\":\"overlay\",\"size\":10,\"solidity\":0.2}},\"type\":\"barpolar\"}],\"pie\":[{\"automargin\":true,\"type\":\"pie\"}]},\"layout\":{\"autotypenumbers\":\"strict\",\"colorway\":[\"#636efa\",\"#EF553B\",\"#00cc96\",\"#ab63fa\",\"#FFA15A\",\"#19d3f3\",\"#FF6692\",\"#B6E880\",\"#FF97FF\",\"#FECB52\"],\"font\":{\"color\":\"#2a3f5f\"},\"hovermode\":\"closest\",\"hoverlabel\":{\"align\":\"left\"},\"paper_bgcolor\":\"white\",\"plot_bgcolor\":\"#E5ECF6\",\"polar\":{\"bgcolor\":\"#E5ECF6\",\"angularaxis\":{\"gridcolor\":\"white\",\"linecolor\":\"white\",\"ticks\":\"\"},\"radialaxis\":{\"gridcolor\":\"white\",\"linecolor\":\"white\",\"ticks\":\"\"}},\"ternary\":{\"bgcolor\":\"#E5ECF6\",\"aaxis\":{\"gridcolor\":\"white\",\"linecolor\":\"white\",\"ticks\":\"\"},\"baxis\":{\"gridcolor\":\"white\",\"linecolor\":\"white\",\"ticks\":\"\"},\"caxis\":{\"gridcolor\":\"white\",\"linecolor\":\"white\",\"ticks\":\"\"}},\"coloraxis\":{\"colorbar\":{\"outlinewidth\":0,\"ticks\":\"\"}},\"colorscale\":{\"sequential\":[[0.0,\"#0d0887\"],[0.1111111111111111,\"#46039f\"],[0.2222222222222222,\"#7201a8\"],[0.3333333333333333,\"#9c179e\"],[0.4444444444444444,\"#bd3786\"],[0.5555555555555556,\"#d8576b\"],[0.6666666666666666,\"#ed7953\"],[0.7777777777777778,\"#fb9f3a\"],[0.8888888888888888,\"#fdca26\"],[1.0,\"#f0f921\"]],\"sequentialminus\":[[0.0,\"#0d0887\"],[0.1111111111111111,\"#46039f\"],[0.2222222222222222,\"#7201a8\"],[0.3333333333333333,\"#9c179e\"],[0.4444444444444444,\"#bd3786\"],[0.5555555555555556,\"#d8576b\"],[0.6666666666666666,\"#ed7953\"],[0.7777777777777778,\"#fb9f3a\"],[0.8888888888888888,\"#fdca26\"],[1.0,\"#f0f921\"]],\"diverging\":[[0,\"#8e0152\"],[0.1,\"#c51b7d\"],[0.2,\"#de77ae\"],[0.3,\"#f1b6da\"],[0.4,\"#fde0ef\"],[0.5,\"#f7f7f7\"],[0.6,\"#e6f5d0\"],[0.7,\"#b8e186\"],[0.8,\"#7fbc41\"],[0.9,\"#4d9221\"],[1,\"#276419\"]]},\"xaxis\":{\"gridcolor\":\"white\",\"linecolor\":\"white\",\"ticks\":\"\",\"title\":{\"standoff\":15},\"zerolinecolor\":\"white\",\"automargin\":true,\"zerolinewidth\":2},\"yaxis\":{\"gridcolor\":\"white\",\"linecolor\":\"white\",\"ticks\":\"\",\"title\":{\"standoff\":15},\"zerolinecolor\":\"white\",\"automargin\":true,\"zerolinewidth\":2},\"scene\":{\"xaxis\":{\"backgroundcolor\":\"#E5ECF6\",\"gridcolor\":\"white\",\"linecolor\":\"white\",\"showbackground\":true,\"ticks\":\"\",\"zerolinecolor\":\"white\",\"gridwidth\":2},\"yaxis\":{\"backgroundcolor\":\"#E5ECF6\",\"gridcolor\":\"white\",\"linecolor\":\"white\",\"showbackground\":true,\"ticks\":\"\",\"zerolinecolor\":\"white\",\"gridwidth\":2},\"zaxis\":{\"backgroundcolor\":\"#E5ECF6\",\"gridcolor\":\"white\",\"linecolor\":\"white\",\"showbackground\":true,\"ticks\":\"\",\"zerolinecolor\":\"white\",\"gridwidth\":2}},\"shapedefaults\":{\"line\":{\"color\":\"#2a3f5f\"}},\"annotationdefaults\":{\"arrowcolor\":\"#2a3f5f\",\"arrowhead\":0,\"arrowwidth\":1},\"geo\":{\"bgcolor\":\"white\",\"landcolor\":\"#E5ECF6\",\"subunitcolor\":\"white\",\"showland\":true,\"showlakes\":true,\"lakecolor\":\"white\"},\"title\":{\"x\":0.05},\"mapbox\":{\"style\":\"light\"}}},\"geo\":{\"domain\":{\"x\":[0.0,1.0],\"y\":[0.0,1.0]},\"center\":{}},\"legend\":{\"tracegroupgap\":0,\"itemsizing\":\"constant\"},\"margin\":{\"t\":60}},                        {\"responsive\": true}                    ).then(function(){\n",
              "                            \n",
              "var gd = document.getElementById('3a5e35d9-c580-40ac-8a7a-66c7586e1a4c');\n",
              "var x = new MutationObserver(function (mutations, observer) {{\n",
              "        var display = window.getComputedStyle(gd).display;\n",
              "        if (!display || display === 'none') {{\n",
              "            console.log([gd, 'removed!']);\n",
              "            Plotly.purge(gd);\n",
              "            observer.disconnect();\n",
              "        }}\n",
              "}});\n",
              "\n",
              "// Listen for the removal of the full notebook cells\n",
              "var notebookContainer = gd.closest('#notebook-container');\n",
              "if (notebookContainer) {{\n",
              "    x.observe(notebookContainer, {childList: true});\n",
              "}}\n",
              "\n",
              "// Listen for the clearing of the current output cell\n",
              "var outputEl = gd.closest('.output');\n",
              "if (outputEl) {{\n",
              "    x.observe(outputEl, {childList: true});\n",
              "}}\n",
              "\n",
              "                        })                };                            </script>        </div>\n",
              "</body>\n",
              "</html>"
            ]
          },
          "metadata": {},
          "output_type": "display_data"
        }
      ],
      "source": [
        "#show map of 2nd chapter\n",
        "fig = px.scatter_geo(place_df2,lat='Latitude',lon='Longitude', hover_name='Place', size=place_df2['Counts'].tolist())\n",
        "#fig.update_layout(title = 'World map', title_x=0.5)\n",
        "fig.show()"
      ]
    },
    {
      "cell_type": "markdown",
      "metadata": {
        "id": "MWNTafX6Gchs"
      },
      "source": [
        "### The following API is down for maintenance, but was used to search for placenames originally. Ignore following code until API is restored"
      ]
    },
    {
      "cell_type": "code",
      "execution_count": null,
      "metadata": {
        "id": "PxYvvvZ1ESyO"
      },
      "outputs": [],
      "source": [
        "import requests\n",
        "import time\n",
        "\n",
        "def search_name(name, fuzzy=False, datasets=('pleiades'), from_date=-3000, to_date=2000, retry_attempts=10):\n",
        "    \"\"\"\n",
        "    get the raw response back from peripleo as a dictionary. look here for more details: https://github.com/pelagios/peripleo/blob/main/README.md\n",
        "    :param name: place name to search\n",
        "    :param fuzzy: whether a fuzzy search should be performed\n",
        "    :param datasets: which datasets should be included in the search\n",
        "    :param from_date: start date for search\n",
        "    :param to_date: end date for search\n",
        "    :param retry_attempts: how many times to retry the request if it fails\n",
        "    :return:\n",
        "    \"\"\"\n",
        "    # pause execution to prevent dos'ing the GeoNames server\n",
        "    time.sleep(0.3)\n",
        "\n",
        "    # default parameters\n",
        "    params = {\n",
        "        'query': name,\n",
        "        'types': 'place',\n",
        "        'from': from_date,\n",
        "        'to': to_date,\n",
        "        'datasets': datasets\n",
        "    }\n",
        "\n",
        "    if fuzzy:\n",
        "        params['query'] = params['query'] + '~'\n",
        "\n",
        "    gz_url = 'http://peripleo.pelagios.org/peripleo/search'  # baseurl for peripleo search\n",
        "\n",
        "    try:\n",
        "        response = requests.get(gz_url, params=params, timeout=None)\n",
        "    except requests.exceptions.Timeout as e:\n",
        "        # if specified in the arguments, retry the API call on request timeout\n",
        "        print(e)\n",
        "        if retry_attempts > 0:\n",
        "            retry_attempts -= 1\n",
        "            return search_name(name, retry_attempts=retry_attempts)\n",
        "        else:\n",
        "            raise Exception('Timeout after specified retries.')\n",
        "\n",
        "    if response.status_code == 200:\n",
        "        return response.json()\n",
        "\n",
        "    # for any response where the status code is not 200 ('success') retry the API call\n",
        "    if retry_attempts > 0:\n",
        "        retry_attempts -= 1\n",
        "        return search_name(name, retry_attempts=retry_attempts)\n",
        "    else:\n",
        "        raise Exception('Status code: ' + str(response.status_code))"
      ]
    },
    {
      "cell_type": "code",
      "execution_count": null,
      "metadata": {
        "colab": {
          "base_uri": "https://localhost:8080/",
          "height": 778
        },
        "id": "TmZ-8-VyEnx-",
        "outputId": "7997e225-965e-4e60-c88a-102a07292fa0"
      },
      "outputs": [
        {
          "name": "stdout",
          "output_type": "stream",
          "text": [
            "matching Goths against peripleo gazetteer...\n"
          ]
        },
        {
          "ename": "JSONDecodeError",
          "evalue": "ignored",
          "output_type": "error",
          "traceback": [
            "\u001b[0;31m---------------------------------------------------------------------------\u001b[0m",
            "\u001b[0;31mJSONDecodeError\u001b[0m                           Traceback (most recent call last)",
            "\u001b[0;32m/usr/local/lib/python3.10/dist-packages/requests/models.py\u001b[0m in \u001b[0;36mjson\u001b[0;34m(self, **kwargs)\u001b[0m\n\u001b[1;32m    909\u001b[0m         \u001b[0;32mtry\u001b[0m\u001b[0;34m:\u001b[0m\u001b[0;34m\u001b[0m\u001b[0;34m\u001b[0m\u001b[0m\n\u001b[0;32m--> 910\u001b[0;31m             \u001b[0;32mreturn\u001b[0m \u001b[0mcomplexjson\u001b[0m\u001b[0;34m.\u001b[0m\u001b[0mloads\u001b[0m\u001b[0;34m(\u001b[0m\u001b[0mself\u001b[0m\u001b[0;34m.\u001b[0m\u001b[0mtext\u001b[0m\u001b[0;34m,\u001b[0m \u001b[0;34m**\u001b[0m\u001b[0mkwargs\u001b[0m\u001b[0;34m)\u001b[0m\u001b[0;34m\u001b[0m\u001b[0;34m\u001b[0m\u001b[0m\n\u001b[0m\u001b[1;32m    911\u001b[0m         \u001b[0;32mexcept\u001b[0m \u001b[0mJSONDecodeError\u001b[0m \u001b[0;32mas\u001b[0m \u001b[0me\u001b[0m\u001b[0;34m:\u001b[0m\u001b[0;34m\u001b[0m\u001b[0;34m\u001b[0m\u001b[0m\n",
            "\u001b[0;32m/usr/lib/python3.10/json/__init__.py\u001b[0m in \u001b[0;36mloads\u001b[0;34m(s, cls, object_hook, parse_float, parse_int, parse_constant, object_pairs_hook, **kw)\u001b[0m\n\u001b[1;32m    345\u001b[0m             parse_constant is None and object_pairs_hook is None and not kw):\n\u001b[0;32m--> 346\u001b[0;31m         \u001b[0;32mreturn\u001b[0m \u001b[0m_default_decoder\u001b[0m\u001b[0;34m.\u001b[0m\u001b[0mdecode\u001b[0m\u001b[0;34m(\u001b[0m\u001b[0ms\u001b[0m\u001b[0;34m)\u001b[0m\u001b[0;34m\u001b[0m\u001b[0;34m\u001b[0m\u001b[0m\n\u001b[0m\u001b[1;32m    347\u001b[0m     \u001b[0;32mif\u001b[0m \u001b[0mcls\u001b[0m \u001b[0;32mis\u001b[0m \u001b[0;32mNone\u001b[0m\u001b[0;34m:\u001b[0m\u001b[0;34m\u001b[0m\u001b[0;34m\u001b[0m\u001b[0m\n",
            "\u001b[0;32m/usr/lib/python3.10/json/decoder.py\u001b[0m in \u001b[0;36mdecode\u001b[0;34m(self, s, _w)\u001b[0m\n\u001b[1;32m    336\u001b[0m         \"\"\"\n\u001b[0;32m--> 337\u001b[0;31m         \u001b[0mobj\u001b[0m\u001b[0;34m,\u001b[0m \u001b[0mend\u001b[0m \u001b[0;34m=\u001b[0m \u001b[0mself\u001b[0m\u001b[0;34m.\u001b[0m\u001b[0mraw_decode\u001b[0m\u001b[0;34m(\u001b[0m\u001b[0ms\u001b[0m\u001b[0;34m,\u001b[0m \u001b[0midx\u001b[0m\u001b[0;34m=\u001b[0m\u001b[0m_w\u001b[0m\u001b[0;34m(\u001b[0m\u001b[0ms\u001b[0m\u001b[0;34m,\u001b[0m \u001b[0;36m0\u001b[0m\u001b[0;34m)\u001b[0m\u001b[0;34m.\u001b[0m\u001b[0mend\u001b[0m\u001b[0;34m(\u001b[0m\u001b[0;34m)\u001b[0m\u001b[0;34m)\u001b[0m\u001b[0;34m\u001b[0m\u001b[0;34m\u001b[0m\u001b[0m\n\u001b[0m\u001b[1;32m    338\u001b[0m         \u001b[0mend\u001b[0m \u001b[0;34m=\u001b[0m \u001b[0m_w\u001b[0m\u001b[0;34m(\u001b[0m\u001b[0ms\u001b[0m\u001b[0;34m,\u001b[0m \u001b[0mend\u001b[0m\u001b[0;34m)\u001b[0m\u001b[0;34m.\u001b[0m\u001b[0mend\u001b[0m\u001b[0;34m(\u001b[0m\u001b[0;34m)\u001b[0m\u001b[0;34m\u001b[0m\u001b[0;34m\u001b[0m\u001b[0m\n",
            "\u001b[0;32m/usr/lib/python3.10/json/decoder.py\u001b[0m in \u001b[0;36mraw_decode\u001b[0;34m(self, s, idx)\u001b[0m\n\u001b[1;32m    354\u001b[0m         \u001b[0;32mexcept\u001b[0m \u001b[0mStopIteration\u001b[0m \u001b[0;32mas\u001b[0m \u001b[0merr\u001b[0m\u001b[0;34m:\u001b[0m\u001b[0;34m\u001b[0m\u001b[0;34m\u001b[0m\u001b[0m\n\u001b[0;32m--> 355\u001b[0;31m             \u001b[0;32mraise\u001b[0m \u001b[0mJSONDecodeError\u001b[0m\u001b[0;34m(\u001b[0m\u001b[0;34m\"Expecting value\"\u001b[0m\u001b[0;34m,\u001b[0m \u001b[0ms\u001b[0m\u001b[0;34m,\u001b[0m \u001b[0merr\u001b[0m\u001b[0;34m.\u001b[0m\u001b[0mvalue\u001b[0m\u001b[0;34m)\u001b[0m \u001b[0;32mfrom\u001b[0m \u001b[0;32mNone\u001b[0m\u001b[0;34m\u001b[0m\u001b[0;34m\u001b[0m\u001b[0m\n\u001b[0m\u001b[1;32m    356\u001b[0m         \u001b[0;32mreturn\u001b[0m \u001b[0mobj\u001b[0m\u001b[0;34m,\u001b[0m \u001b[0mend\u001b[0m\u001b[0;34m\u001b[0m\u001b[0;34m\u001b[0m\u001b[0m\n",
            "\u001b[0;31mJSONDecodeError\u001b[0m: Expecting value: line 1 column 1 (char 0)",
            "\nDuring handling of the above exception, another exception occurred:\n",
            "\u001b[0;31mJSONDecodeError\u001b[0m                           Traceback (most recent call last)",
            "\u001b[0;32m<ipython-input-16-f2051f18d4f4>\u001b[0m in \u001b[0;36m<cell line: 5>\u001b[0;34m()\u001b[0m\n\u001b[1;32m      8\u001b[0m     \u001b[0;31m# search has default time bounds and default dataset is Pleiades. look at the code for details\u001b[0m\u001b[0;34m\u001b[0m\u001b[0;34m\u001b[0m\u001b[0m\n\u001b[1;32m      9\u001b[0m     \u001b[0;32mtry\u001b[0m\u001b[0;34m:\u001b[0m\u001b[0;34m\u001b[0m\u001b[0;34m\u001b[0m\u001b[0m\n\u001b[0;32m---> 10\u001b[0;31m         \u001b[0mperipleo_results\u001b[0m\u001b[0;34m.\u001b[0m\u001b[0mappend\u001b[0m\u001b[0;34m(\u001b[0m\u001b[0;34m{\u001b[0m\u001b[0;34m'token'\u001b[0m\u001b[0;34m:\u001b[0m \u001b[0mplace\u001b[0m\u001b[0;34m,\u001b[0m \u001b[0;34m'results'\u001b[0m\u001b[0;34m:\u001b[0m \u001b[0msearch_name\u001b[0m\u001b[0;34m(\u001b[0m\u001b[0mplace\u001b[0m\u001b[0;34m,\u001b[0m \u001b[0mfuzzy\u001b[0m\u001b[0;34m=\u001b[0m\u001b[0;32mFalse\u001b[0m\u001b[0;34m)\u001b[0m\u001b[0;34m}\u001b[0m\u001b[0;34m)\u001b[0m\u001b[0;34m\u001b[0m\u001b[0;34m\u001b[0m\u001b[0m\n\u001b[0m\u001b[1;32m     11\u001b[0m     \u001b[0;32mexcept\u001b[0m \u001b[0mNameError\u001b[0m\u001b[0;34m:\u001b[0m\u001b[0;34m\u001b[0m\u001b[0;34m\u001b[0m\u001b[0m\n\u001b[1;32m     12\u001b[0m         \u001b[0mprint\u001b[0m\u001b[0;34m(\u001b[0m\u001b[0;34m'NameError'\u001b[0m\u001b[0;34m,\u001b[0m \u001b[0mplace\u001b[0m\u001b[0;34m)\u001b[0m\u001b[0;34m\u001b[0m\u001b[0;34m\u001b[0m\u001b[0m\n",
            "\u001b[0;32m<ipython-input-15-0e02249abccc>\u001b[0m in \u001b[0;36msearch_name\u001b[0;34m(name, fuzzy, datasets, from_date, to_date, retry_attempts)\u001b[0m\n\u001b[1;32m     42\u001b[0m \u001b[0;34m\u001b[0m\u001b[0m\n\u001b[1;32m     43\u001b[0m     \u001b[0;32mif\u001b[0m \u001b[0mresponse\u001b[0m\u001b[0;34m.\u001b[0m\u001b[0mstatus_code\u001b[0m \u001b[0;34m==\u001b[0m \u001b[0;36m200\u001b[0m\u001b[0;34m:\u001b[0m\u001b[0;34m\u001b[0m\u001b[0;34m\u001b[0m\u001b[0m\n\u001b[0;32m---> 44\u001b[0;31m         \u001b[0;32mreturn\u001b[0m \u001b[0mresponse\u001b[0m\u001b[0;34m.\u001b[0m\u001b[0mjson\u001b[0m\u001b[0;34m(\u001b[0m\u001b[0;34m)\u001b[0m\u001b[0;34m\u001b[0m\u001b[0;34m\u001b[0m\u001b[0m\n\u001b[0m\u001b[1;32m     45\u001b[0m \u001b[0;34m\u001b[0m\u001b[0m\n\u001b[1;32m     46\u001b[0m     \u001b[0;31m# for any response where the status code is not 200 ('success') retry the API call\u001b[0m\u001b[0;34m\u001b[0m\u001b[0;34m\u001b[0m\u001b[0m\n",
            "\u001b[0;32m/usr/local/lib/python3.10/dist-packages/requests/models.py\u001b[0m in \u001b[0;36mjson\u001b[0;34m(self, **kwargs)\u001b[0m\n\u001b[1;32m    915\u001b[0m                 \u001b[0;32mraise\u001b[0m \u001b[0mRequestsJSONDecodeError\u001b[0m\u001b[0;34m(\u001b[0m\u001b[0me\u001b[0m\u001b[0;34m.\u001b[0m\u001b[0mmessage\u001b[0m\u001b[0;34m)\u001b[0m\u001b[0;34m\u001b[0m\u001b[0;34m\u001b[0m\u001b[0m\n\u001b[1;32m    916\u001b[0m             \u001b[0;32melse\u001b[0m\u001b[0;34m:\u001b[0m\u001b[0;34m\u001b[0m\u001b[0;34m\u001b[0m\u001b[0m\n\u001b[0;32m--> 917\u001b[0;31m                 \u001b[0;32mraise\u001b[0m \u001b[0mRequestsJSONDecodeError\u001b[0m\u001b[0;34m(\u001b[0m\u001b[0me\u001b[0m\u001b[0;34m.\u001b[0m\u001b[0mmsg\u001b[0m\u001b[0;34m,\u001b[0m \u001b[0me\u001b[0m\u001b[0;34m.\u001b[0m\u001b[0mdoc\u001b[0m\u001b[0;34m,\u001b[0m \u001b[0me\u001b[0m\u001b[0;34m.\u001b[0m\u001b[0mpos\u001b[0m\u001b[0;34m)\u001b[0m\u001b[0;34m\u001b[0m\u001b[0;34m\u001b[0m\u001b[0m\n\u001b[0m\u001b[1;32m    918\u001b[0m \u001b[0;34m\u001b[0m\u001b[0m\n\u001b[1;32m    919\u001b[0m     \u001b[0;34m@\u001b[0m\u001b[0mproperty\u001b[0m\u001b[0;34m\u001b[0m\u001b[0;34m\u001b[0m\u001b[0m\n",
            "\u001b[0;31mJSONDecodeError\u001b[0m: [Errno Expecting value] <!DOCTYPE html>\n<html>\n  <head>\n    <title>Pelagios | Bad Gateway</title>\n    <link rel=\"stylesheet\" href=\"/error/error.css\" />\n    <meta http-equiv=\"Cache-Control\" content=\"no-cache, no-store, must-revalidate\" />\n    <meta http-equiv=\"Pragma\" content=\"no-cache\" />\n    <meta http-equiv=\"Expires\" content=\"0\" />\n  </head>\n  <body>\n    <div class=\"outer\">\n      <div class=\"inner\">\n        <h1>We'll be right back.</h1>\n        <p>We are currently down for a quick maintenance break. Bear with us.</p>\n      </div>\n    </div>\n  </body>\n</html>\n: 0"
          ]
        }
      ],
      "source": [
        "# match all places nouns against the gazetteer\n",
        "peripleo_results = []\n",
        "num_places = len(ch1)\n",
        "prev_disp_percent = 0\n",
        "for i in range(len(ch1)):\n",
        "    place = ch1[i]\n",
        "    print(f'matching {place} against peripleo gazetteer...')\n",
        "    # search has default time bounds and default dataset is Pleiades. look at the code for details\n",
        "    try:\n",
        "        peripleo_results.append({'token': place, 'results': search_name(place, fuzzy=False)})\n",
        "    except NameError:\n",
        "        print('NameError', place)\n",
        "        continue\n",
        "    percent_done = (i / num_places) * 100\n",
        "    disp_percent = percent_done // 1\n",
        "    if disp_percent > prev_disp_percent:\n",
        "        print('\\n' + str(disp_percent) + '% of identified places have been checked against gazetteer...\\n')\n",
        "        prev_disp_percent += 1\n",
        "\n",
        "print('complete!')"
      ]
    },
    {
      "cell_type": "code",
      "execution_count": null,
      "metadata": {
        "id": "JK_42lLEVMDt"
      },
      "outputs": [],
      "source": [
        "peripleo_places = [{'token': i['token'], 'place': i['results']['items'][0]} for i in peripleo_results if len(i['results']['items']) > 0]\n",
        "tokens = []\n",
        "names = []\n",
        "longs = []\n",
        "lats = []\n",
        "identifiers = []\n",
        "counts = []\n",
        "\n",
        "\n",
        "for p in peripleo_places:\n",
        "    token = p['token']\n",
        "    name_s = p['place']\n",
        "#     average the minimum and maximum longitudes and latitutdes\n",
        "    try:\n",
        "        long = ((p['place']['geo_bounds']['max_lon']) + (p['place']['geo_bounds']['min_lon'])) / 2\n",
        "        lat = ((p['place']['geo_bounds']['max_lat']) + (p['place']['geo_bounds']['min_lat'])) / 2\n",
        "        count = counts_dict[token]\n",
        "    except KeyError:\n",
        "        long = '?'\n",
        "        lat = '?'\n",
        "    identifier = p['place']['identifier']\n",
        "    tokens.append(token)\n",
        "    names.append(name_s)\n",
        "    longs.append(long)\n",
        "    lats.append(lat)\n",
        "    identifiers.append(identifier)\n",
        "    counts.append(count)\n",
        "\n",
        "place_df = pd.DataFrame({'token': tokens, 'names': names, \"latitude\": lats, 'longitude': longs, \"identifier\": identifiers, \"counts\": counts})"
      ]
    },
    {
      "cell_type": "markdown",
      "metadata": {
        "id": "-xo8ARIzfodk"
      },
      "source": [
        "## Extracting Dates in Text\n",
        "We can extract individual dates from the text, allowing us to compare timelines mentioned in each individual chapter"
      ]
    },
    {
      "cell_type": "code",
      "execution_count": null,
      "metadata": {
        "colab": {
          "base_uri": "https://localhost:8080/",
          "height": 542
        },
        "id": "h7Pv-Wsnf4FI",
        "outputId": "9ddd69cb-7b9e-4b27-8cbe-bd8e95408626"
      },
      "outputs": [
        {
          "data": {
            "text/html": [
              "<html>\n",
              "<head><meta charset=\"utf-8\" /></head>\n",
              "<body>\n",
              "    <div>            <script src=\"https://cdnjs.cloudflare.com/ajax/libs/mathjax/2.7.5/MathJax.js?config=TeX-AMS-MML_SVG\"></script><script type=\"text/javascript\">if (window.MathJax && window.MathJax.Hub && window.MathJax.Hub.Config) {window.MathJax.Hub.Config({SVG: {font: \"STIX-Web\"}});}</script>                <script type=\"text/javascript\">window.PlotlyConfig = {MathJaxConfig: 'local'};</script>\n",
              "        <script src=\"https://cdn.plot.ly/plotly-2.18.2.min.js\"></script>                <div id=\"c34afa6f-437a-40d1-b185-c5a4f612b044\" class=\"plotly-graph-div\" style=\"height:525px; width:100%;\"></div>            <script type=\"text/javascript\">                                    window.PLOTLYENV=window.PLOTLYENV || {};                                    if (document.getElementById(\"c34afa6f-437a-40d1-b185-c5a4f612b044\")) {                    Plotly.newPlot(                        \"c34afa6f-437a-40d1-b185-c5a4f612b044\",                        [{\"hovertemplate\":\"<b>%{hovertext}</b><br><br>x=%{x}<br>y=%{y}<extra></extra>\",\"hovertext\":[\"ch31n15\",\"ch31n20\",\"ch31n20\",\"ch31n21\",\"ch31n24\",\"ch31n38\",\"ch31n56\",\"ch31n78\",\"ch31n78\",\"ch31n87\",\"ch31n87\",\"ch31n99\",\"ch31n105\",\"ch31n115\",\"ch31n129\",\"ch31n144\",\"ch31n149\",\"ch31n180\",\"ch31n193\",\"ch54n17\",\"ch54n29\",\"ch54n30\",\"ch54n30\",\"ch54n35\",\"ch54n37\",\"ch54n38\"],\"legendgroup\":\"\",\"marker\":{\"color\":\"#636efa\",\"symbol\":\"circle\"},\"mode\":\"markers\",\"name\":\"\",\"orientation\":\"v\",\"showlegend\":false,\"x\":[31040,31045,31045,31045,31050,31080,31125,31165,31165,31195,31195,31230,31250,31270,31300,31335,31345,31440,31455,54045,54075,54080,54080,54095,54100,54100],\"xaxis\":\"x\",\"y\":[-304,312,78,395,390,397,452,409,408,409,12,410,410,408,410,631,416,488,359,240,870,970,973,1040,1017,1307],\"yaxis\":\"y\",\"type\":\"scatter\"}],                        {\"template\":{\"data\":{\"histogram2dcontour\":[{\"type\":\"histogram2dcontour\",\"colorbar\":{\"outlinewidth\":0,\"ticks\":\"\"},\"colorscale\":[[0.0,\"#0d0887\"],[0.1111111111111111,\"#46039f\"],[0.2222222222222222,\"#7201a8\"],[0.3333333333333333,\"#9c179e\"],[0.4444444444444444,\"#bd3786\"],[0.5555555555555556,\"#d8576b\"],[0.6666666666666666,\"#ed7953\"],[0.7777777777777778,\"#fb9f3a\"],[0.8888888888888888,\"#fdca26\"],[1.0,\"#f0f921\"]]}],\"choropleth\":[{\"type\":\"choropleth\",\"colorbar\":{\"outlinewidth\":0,\"ticks\":\"\"}}],\"histogram2d\":[{\"type\":\"histogram2d\",\"colorbar\":{\"outlinewidth\":0,\"ticks\":\"\"},\"colorscale\":[[0.0,\"#0d0887\"],[0.1111111111111111,\"#46039f\"],[0.2222222222222222,\"#7201a8\"],[0.3333333333333333,\"#9c179e\"],[0.4444444444444444,\"#bd3786\"],[0.5555555555555556,\"#d8576b\"],[0.6666666666666666,\"#ed7953\"],[0.7777777777777778,\"#fb9f3a\"],[0.8888888888888888,\"#fdca26\"],[1.0,\"#f0f921\"]]}],\"heatmap\":[{\"type\":\"heatmap\",\"colorbar\":{\"outlinewidth\":0,\"ticks\":\"\"},\"colorscale\":[[0.0,\"#0d0887\"],[0.1111111111111111,\"#46039f\"],[0.2222222222222222,\"#7201a8\"],[0.3333333333333333,\"#9c179e\"],[0.4444444444444444,\"#bd3786\"],[0.5555555555555556,\"#d8576b\"],[0.6666666666666666,\"#ed7953\"],[0.7777777777777778,\"#fb9f3a\"],[0.8888888888888888,\"#fdca26\"],[1.0,\"#f0f921\"]]}],\"heatmapgl\":[{\"type\":\"heatmapgl\",\"colorbar\":{\"outlinewidth\":0,\"ticks\":\"\"},\"colorscale\":[[0.0,\"#0d0887\"],[0.1111111111111111,\"#46039f\"],[0.2222222222222222,\"#7201a8\"],[0.3333333333333333,\"#9c179e\"],[0.4444444444444444,\"#bd3786\"],[0.5555555555555556,\"#d8576b\"],[0.6666666666666666,\"#ed7953\"],[0.7777777777777778,\"#fb9f3a\"],[0.8888888888888888,\"#fdca26\"],[1.0,\"#f0f921\"]]}],\"contourcarpet\":[{\"type\":\"contourcarpet\",\"colorbar\":{\"outlinewidth\":0,\"ticks\":\"\"}}],\"contour\":[{\"type\":\"contour\",\"colorbar\":{\"outlinewidth\":0,\"ticks\":\"\"},\"colorscale\":[[0.0,\"#0d0887\"],[0.1111111111111111,\"#46039f\"],[0.2222222222222222,\"#7201a8\"],[0.3333333333333333,\"#9c179e\"],[0.4444444444444444,\"#bd3786\"],[0.5555555555555556,\"#d8576b\"],[0.6666666666666666,\"#ed7953\"],[0.7777777777777778,\"#fb9f3a\"],[0.8888888888888888,\"#fdca26\"],[1.0,\"#f0f921\"]]}],\"surface\":[{\"type\":\"surface\",\"colorbar\":{\"outlinewidth\":0,\"ticks\":\"\"},\"colorscale\":[[0.0,\"#0d0887\"],[0.1111111111111111,\"#46039f\"],[0.2222222222222222,\"#7201a8\"],[0.3333333333333333,\"#9c179e\"],[0.4444444444444444,\"#bd3786\"],[0.5555555555555556,\"#d8576b\"],[0.6666666666666666,\"#ed7953\"],[0.7777777777777778,\"#fb9f3a\"],[0.8888888888888888,\"#fdca26\"],[1.0,\"#f0f921\"]]}],\"mesh3d\":[{\"type\":\"mesh3d\",\"colorbar\":{\"outlinewidth\":0,\"ticks\":\"\"}}],\"scatter\":[{\"fillpattern\":{\"fillmode\":\"overlay\",\"size\":10,\"solidity\":0.2},\"type\":\"scatter\"}],\"parcoords\":[{\"type\":\"parcoords\",\"line\":{\"colorbar\":{\"outlinewidth\":0,\"ticks\":\"\"}}}],\"scatterpolargl\":[{\"type\":\"scatterpolargl\",\"marker\":{\"colorbar\":{\"outlinewidth\":0,\"ticks\":\"\"}}}],\"bar\":[{\"error_x\":{\"color\":\"#2a3f5f\"},\"error_y\":{\"color\":\"#2a3f5f\"},\"marker\":{\"line\":{\"color\":\"#E5ECF6\",\"width\":0.5},\"pattern\":{\"fillmode\":\"overlay\",\"size\":10,\"solidity\":0.2}},\"type\":\"bar\"}],\"scattergeo\":[{\"type\":\"scattergeo\",\"marker\":{\"colorbar\":{\"outlinewidth\":0,\"ticks\":\"\"}}}],\"scatterpolar\":[{\"type\":\"scatterpolar\",\"marker\":{\"colorbar\":{\"outlinewidth\":0,\"ticks\":\"\"}}}],\"histogram\":[{\"marker\":{\"pattern\":{\"fillmode\":\"overlay\",\"size\":10,\"solidity\":0.2}},\"type\":\"histogram\"}],\"scattergl\":[{\"type\":\"scattergl\",\"marker\":{\"colorbar\":{\"outlinewidth\":0,\"ticks\":\"\"}}}],\"scatter3d\":[{\"type\":\"scatter3d\",\"line\":{\"colorbar\":{\"outlinewidth\":0,\"ticks\":\"\"}},\"marker\":{\"colorbar\":{\"outlinewidth\":0,\"ticks\":\"\"}}}],\"scattermapbox\":[{\"type\":\"scattermapbox\",\"marker\":{\"colorbar\":{\"outlinewidth\":0,\"ticks\":\"\"}}}],\"scatterternary\":[{\"type\":\"scatterternary\",\"marker\":{\"colorbar\":{\"outlinewidth\":0,\"ticks\":\"\"}}}],\"scattercarpet\":[{\"type\":\"scattercarpet\",\"marker\":{\"colorbar\":{\"outlinewidth\":0,\"ticks\":\"\"}}}],\"carpet\":[{\"aaxis\":{\"endlinecolor\":\"#2a3f5f\",\"gridcolor\":\"white\",\"linecolor\":\"white\",\"minorgridcolor\":\"white\",\"startlinecolor\":\"#2a3f5f\"},\"baxis\":{\"endlinecolor\":\"#2a3f5f\",\"gridcolor\":\"white\",\"linecolor\":\"white\",\"minorgridcolor\":\"white\",\"startlinecolor\":\"#2a3f5f\"},\"type\":\"carpet\"}],\"table\":[{\"cells\":{\"fill\":{\"color\":\"#EBF0F8\"},\"line\":{\"color\":\"white\"}},\"header\":{\"fill\":{\"color\":\"#C8D4E3\"},\"line\":{\"color\":\"white\"}},\"type\":\"table\"}],\"barpolar\":[{\"marker\":{\"line\":{\"color\":\"#E5ECF6\",\"width\":0.5},\"pattern\":{\"fillmode\":\"overlay\",\"size\":10,\"solidity\":0.2}},\"type\":\"barpolar\"}],\"pie\":[{\"automargin\":true,\"type\":\"pie\"}]},\"layout\":{\"autotypenumbers\":\"strict\",\"colorway\":[\"#636efa\",\"#EF553B\",\"#00cc96\",\"#ab63fa\",\"#FFA15A\",\"#19d3f3\",\"#FF6692\",\"#B6E880\",\"#FF97FF\",\"#FECB52\"],\"font\":{\"color\":\"#2a3f5f\"},\"hovermode\":\"closest\",\"hoverlabel\":{\"align\":\"left\"},\"paper_bgcolor\":\"white\",\"plot_bgcolor\":\"#E5ECF6\",\"polar\":{\"bgcolor\":\"#E5ECF6\",\"angularaxis\":{\"gridcolor\":\"white\",\"linecolor\":\"white\",\"ticks\":\"\"},\"radialaxis\":{\"gridcolor\":\"white\",\"linecolor\":\"white\",\"ticks\":\"\"}},\"ternary\":{\"bgcolor\":\"#E5ECF6\",\"aaxis\":{\"gridcolor\":\"white\",\"linecolor\":\"white\",\"ticks\":\"\"},\"baxis\":{\"gridcolor\":\"white\",\"linecolor\":\"white\",\"ticks\":\"\"},\"caxis\":{\"gridcolor\":\"white\",\"linecolor\":\"white\",\"ticks\":\"\"}},\"coloraxis\":{\"colorbar\":{\"outlinewidth\":0,\"ticks\":\"\"}},\"colorscale\":{\"sequential\":[[0.0,\"#0d0887\"],[0.1111111111111111,\"#46039f\"],[0.2222222222222222,\"#7201a8\"],[0.3333333333333333,\"#9c179e\"],[0.4444444444444444,\"#bd3786\"],[0.5555555555555556,\"#d8576b\"],[0.6666666666666666,\"#ed7953\"],[0.7777777777777778,\"#fb9f3a\"],[0.8888888888888888,\"#fdca26\"],[1.0,\"#f0f921\"]],\"sequentialminus\":[[0.0,\"#0d0887\"],[0.1111111111111111,\"#46039f\"],[0.2222222222222222,\"#7201a8\"],[0.3333333333333333,\"#9c179e\"],[0.4444444444444444,\"#bd3786\"],[0.5555555555555556,\"#d8576b\"],[0.6666666666666666,\"#ed7953\"],[0.7777777777777778,\"#fb9f3a\"],[0.8888888888888888,\"#fdca26\"],[1.0,\"#f0f921\"]],\"diverging\":[[0,\"#8e0152\"],[0.1,\"#c51b7d\"],[0.2,\"#de77ae\"],[0.3,\"#f1b6da\"],[0.4,\"#fde0ef\"],[0.5,\"#f7f7f7\"],[0.6,\"#e6f5d0\"],[0.7,\"#b8e186\"],[0.8,\"#7fbc41\"],[0.9,\"#4d9221\"],[1,\"#276419\"]]},\"xaxis\":{\"gridcolor\":\"white\",\"linecolor\":\"white\",\"ticks\":\"\",\"title\":{\"standoff\":15},\"zerolinecolor\":\"white\",\"automargin\":true,\"zerolinewidth\":2},\"yaxis\":{\"gridcolor\":\"white\",\"linecolor\":\"white\",\"ticks\":\"\",\"title\":{\"standoff\":15},\"zerolinecolor\":\"white\",\"automargin\":true,\"zerolinewidth\":2},\"scene\":{\"xaxis\":{\"backgroundcolor\":\"#E5ECF6\",\"gridcolor\":\"white\",\"linecolor\":\"white\",\"showbackground\":true,\"ticks\":\"\",\"zerolinecolor\":\"white\",\"gridwidth\":2},\"yaxis\":{\"backgroundcolor\":\"#E5ECF6\",\"gridcolor\":\"white\",\"linecolor\":\"white\",\"showbackground\":true,\"ticks\":\"\",\"zerolinecolor\":\"white\",\"gridwidth\":2},\"zaxis\":{\"backgroundcolor\":\"#E5ECF6\",\"gridcolor\":\"white\",\"linecolor\":\"white\",\"showbackground\":true,\"ticks\":\"\",\"zerolinecolor\":\"white\",\"gridwidth\":2}},\"shapedefaults\":{\"line\":{\"color\":\"#2a3f5f\"}},\"annotationdefaults\":{\"arrowcolor\":\"#2a3f5f\",\"arrowhead\":0,\"arrowwidth\":1},\"geo\":{\"bgcolor\":\"white\",\"landcolor\":\"#E5ECF6\",\"subunitcolor\":\"white\",\"showland\":true,\"showlakes\":true,\"lakecolor\":\"white\"},\"title\":{\"x\":0.05},\"mapbox\":{\"style\":\"light\"}}},\"xaxis\":{\"anchor\":\"y\",\"domain\":[0.0,1.0],\"title\":{\"text\":\"Chapter, Page\"}},\"yaxis\":{\"anchor\":\"x\",\"domain\":[0.0,1.0],\"title\":{\"text\":\"Date\"}},\"legend\":{\"tracegroupgap\":0},\"margin\":{\"t\":60}},                        {\"responsive\": true}                    ).then(function(){\n",
              "                            \n",
              "var gd = document.getElementById('c34afa6f-437a-40d1-b185-c5a4f612b044');\n",
              "var x = new MutationObserver(function (mutations, observer) {{\n",
              "        var display = window.getComputedStyle(gd).display;\n",
              "        if (!display || display === 'none') {{\n",
              "            console.log([gd, 'removed!']);\n",
              "            Plotly.purge(gd);\n",
              "            observer.disconnect();\n",
              "        }}\n",
              "}});\n",
              "\n",
              "// Listen for the removal of the full notebook cells\n",
              "var notebookContainer = gd.closest('#notebook-container');\n",
              "if (notebookContainer) {{\n",
              "    x.observe(notebookContainer, {childList: true});\n",
              "}}\n",
              "\n",
              "// Listen for the clearing of the current output cell\n",
              "var outputEl = gd.closest('.output');\n",
              "if (outputEl) {{\n",
              "    x.observe(outputEl, {childList: true});\n",
              "}}\n",
              "\n",
              "                        })                };                            </script>        </div>\n",
              "</body>\n",
              "</html>"
            ]
          },
          "metadata": {},
          "output_type": "display_data"
        }
      ],
      "source": [
        "df = px.data.iris()\n",
        "note2page = {}\n",
        "firstchappages = {}\n",
        "f = open('bury-all.xml')\n",
        "\n",
        "curchap = 1\n",
        "prevchap = 0\n",
        "startpage = 1\n",
        "firstpage = 1\n",
        "for l in f:\n",
        "  if(re.search('<note',l)):\n",
        "    continue\n",
        "  m = re.search('<p xml:id=\"ch([0-9]+)',l)\n",
        "  if(m):\n",
        "    chaps = m[1]\n",
        "    curchap = int(m[1])\n",
        "    if(not curchap == prevchap):\n",
        "      firstchappages[curchap] = curpage\n",
        "      chaplen = curpage - firstpage\n",
        "      firstpage = curpage\n",
        "      #print(chaps,chaplen,volpage,curchap,firstchappages[curchap])\n",
        "    prevchap = curchap\n",
        "  m = re.search('<pb n=\"(v[0-9]+p)([0-9]+)',l)\n",
        "  if(m):\n",
        "    curpage = int(m[2])\n",
        "    volpage = m[1] + m[2]\n",
        "    chappage = curchap * 1000 + (curpage-firstpage+1)*5\n",
        "  while(re.search('target=\"(ch[^\"]+)',l)):\n",
        "    m = re.search('target=\"(ch[^\"]+)',l)\n",
        "    curnote = m[1]\n",
        "    note2page[curnote] = chappage\n",
        "    #if(curchap == 1):\n",
        "      #print(curnote,curchap,firstpage,curpage,chappage)\n",
        "    l = re.sub('target=\"(ch[^\"]+)','',l,1)\n",
        "f.close()\n",
        "f = open('bury-all.xml')\n",
        "\n",
        "datelist = []\n",
        "chapnotelist = []\n",
        "hovernames = []\n",
        "for l in f:\n",
        "    if(re.search('<note xml:id=\"ch([0-9]+)n([0-9]+)\"',l)):\n",
        "        m = re.search('<note xml:id=\"ch([0-9]+)n([0-9]+)\"',l)\n",
        "        noteref = 'ch' + m[1] + 'n' + m[2]\n",
        "        curchap = int(m[1])\n",
        "        if(not noteref in note2page):\n",
        "          print('failed',noteref)\n",
        "          curpage = 0\n",
        "        else:\n",
        "          curpage = note2page[noteref]\n",
        "    if(0 and not (curchap == 54 or curchap == 31)):\n",
        "        continue\n",
        "    while(re.search('<date when=\"([0-9\\-][0-9]+)\"',l)):\n",
        "        m = re.search('<date when=\"([0-9\\-][0-9]+)\"',l)\n",
        "        #curdate = re.sub('^[0]+','',m[1])\n",
        "        curdate = int(m[1])\n",
        "        l = re.sub('<date when=\"([0-9\\-]+)\"',' ',l,1)\n",
        "        if(curdate > -3000 and (curchap == 31 or curchap == 54)):\n",
        "          #chapnotelist.append(chapnote)\n",
        "          chapnotelist.append(curpage)\n",
        "          datelist.append(curdate)\n",
        "          hovernames.append(noteref)\n",
        "\n",
        "f.close()\n",
        "\n",
        "\n",
        "fig = px.scatter(df, x=chapnotelist, y=datelist,hover_name=hovernames).update_layout(\n",
        "    xaxis_title=\"Chapter, Page\", yaxis_title=\"Date\"\n",
        ")\n",
        "fig.show()"
      ]
    },
    {
      "cell_type": "markdown",
      "metadata": {
        "id": "gRT-RqdMqFC2"
      },
      "source": [
        "## Topic Modeling\n",
        "By generating 2 topics from our 2 separate chapters, we hope that we can generate lists of unique words per chapter, giving us a loose summary."
      ]
    },
    {
      "cell_type": "code",
      "execution_count": null,
      "metadata": {
        "id": "KWhUwoh_qMaJ"
      },
      "outputs": [],
      "source": [
        "with open('gibbonfortm.xml') as gibbon_fh:\n",
        "  soup_chapter = BeautifulSoup(gibbon_fh, features=\"xml\")"
      ]
    },
    {
      "cell_type": "code",
      "execution_count": null,
      "metadata": {
        "id": "Yh-iQe4MsJBH"
      },
      "outputs": [],
      "source": [
        "div_list = soup.findAll('div')\n",
        "\n",
        "chapter_list = []\n",
        "for div in div_list:\n",
        "  div_type = div.get('subtype')\n",
        "  if div_type == 'chapter':\n",
        "    chapter_list.append(div)"
      ]
    },
    {
      "cell_type": "code",
      "execution_count": null,
      "metadata": {
        "colab": {
          "base_uri": "https://localhost:8080/",
          "height": 112
        },
        "id": "Cq4LM-jatejY",
        "outputId": "f1d9e558-a0c8-4cf2-f0c1-bb5febd5a65a"
      },
      "outputs": [
        {
          "data": {
            "text/html": [
              "\n",
              "  <div id=\"df-195228d2-de03-44ea-b76c-e449009ec97b\">\n",
              "    <div class=\"colab-df-container\">\n",
              "      <div>\n",
              "<style scoped>\n",
              "    .dataframe tbody tr th:only-of-type {\n",
              "        vertical-align: middle;\n",
              "    }\n",
              "\n",
              "    .dataframe tbody tr th {\n",
              "        vertical-align: top;\n",
              "    }\n",
              "\n",
              "    .dataframe thead th {\n",
              "        text-align: right;\n",
              "    }\n",
              "</style>\n",
              "<table border=\"1\" class=\"dataframe\">\n",
              "  <thead>\n",
              "    <tr style=\"text-align: right;\">\n",
              "      <th></th>\n",
              "      <th>ChapterText</th>\n",
              "    </tr>\n",
              "  </thead>\n",
              "  <tbody>\n",
              "    <tr>\n",
              "      <th>1</th>\n",
              "      <td>CHAPTER XXXI      Invasion of Italy by Ala...</td>\n",
              "    </tr>\n",
              "    <tr>\n",
              "      <th>2</th>\n",
              "      <td>CHAPTER LIV      Origin and Doctrine of th...</td>\n",
              "    </tr>\n",
              "  </tbody>\n",
              "</table>\n",
              "</div>\n",
              "      <button class=\"colab-df-convert\" onclick=\"convertToInteractive('df-195228d2-de03-44ea-b76c-e449009ec97b')\"\n",
              "              title=\"Convert this dataframe to an interactive table.\"\n",
              "              style=\"display:none;\">\n",
              "        \n",
              "  <svg xmlns=\"http://www.w3.org/2000/svg\" height=\"24px\"viewBox=\"0 0 24 24\"\n",
              "       width=\"24px\">\n",
              "    <path d=\"M0 0h24v24H0V0z\" fill=\"none\"/>\n",
              "    <path d=\"M18.56 5.44l.94 2.06.94-2.06 2.06-.94-2.06-.94-.94-2.06-.94 2.06-2.06.94zm-11 1L8.5 8.5l.94-2.06 2.06-.94-2.06-.94L8.5 2.5l-.94 2.06-2.06.94zm10 10l.94 2.06.94-2.06 2.06-.94-2.06-.94-.94-2.06-.94 2.06-2.06.94z\"/><path d=\"M17.41 7.96l-1.37-1.37c-.4-.4-.92-.59-1.43-.59-.52 0-1.04.2-1.43.59L10.3 9.45l-7.72 7.72c-.78.78-.78 2.05 0 2.83L4 21.41c.39.39.9.59 1.41.59.51 0 1.02-.2 1.41-.59l7.78-7.78 2.81-2.81c.8-.78.8-2.07 0-2.86zM5.41 20L4 18.59l7.72-7.72 1.47 1.35L5.41 20z\"/>\n",
              "  </svg>\n",
              "      </button>\n",
              "      \n",
              "  <style>\n",
              "    .colab-df-container {\n",
              "      display:flex;\n",
              "      flex-wrap:wrap;\n",
              "      gap: 12px;\n",
              "    }\n",
              "\n",
              "    .colab-df-convert {\n",
              "      background-color: #E8F0FE;\n",
              "      border: none;\n",
              "      border-radius: 50%;\n",
              "      cursor: pointer;\n",
              "      display: none;\n",
              "      fill: #1967D2;\n",
              "      height: 32px;\n",
              "      padding: 0 0 0 0;\n",
              "      width: 32px;\n",
              "    }\n",
              "\n",
              "    .colab-df-convert:hover {\n",
              "      background-color: #E2EBFA;\n",
              "      box-shadow: 0px 1px 2px rgba(60, 64, 67, 0.3), 0px 1px 3px 1px rgba(60, 64, 67, 0.15);\n",
              "      fill: #174EA6;\n",
              "    }\n",
              "\n",
              "    [theme=dark] .colab-df-convert {\n",
              "      background-color: #3B4455;\n",
              "      fill: #D2E3FC;\n",
              "    }\n",
              "\n",
              "    [theme=dark] .colab-df-convert:hover {\n",
              "      background-color: #434B5C;\n",
              "      box-shadow: 0px 1px 3px 1px rgba(0, 0, 0, 0.15);\n",
              "      filter: drop-shadow(0px 1px 2px rgba(0, 0, 0, 0.3));\n",
              "      fill: #FFFFFF;\n",
              "    }\n",
              "  </style>\n",
              "\n",
              "      <script>\n",
              "        const buttonEl =\n",
              "          document.querySelector('#df-195228d2-de03-44ea-b76c-e449009ec97b button.colab-df-convert');\n",
              "        buttonEl.style.display =\n",
              "          google.colab.kernel.accessAllowed ? 'block' : 'none';\n",
              "\n",
              "        async function convertToInteractive(key) {\n",
              "          const element = document.querySelector('#df-195228d2-de03-44ea-b76c-e449009ec97b');\n",
              "          const dataTable =\n",
              "            await google.colab.kernel.invokeFunction('convertToInteractive',\n",
              "                                                     [key], {});\n",
              "          if (!dataTable) return;\n",
              "\n",
              "          const docLinkHtml = 'Like what you see? Visit the ' +\n",
              "            '<a target=\"_blank\" href=https://colab.research.google.com/notebooks/data_table.ipynb>data table notebook</a>'\n",
              "            + ' to learn more about interactive tables.';\n",
              "          element.innerHTML = '';\n",
              "          dataTable['output_type'] = 'display_data';\n",
              "          await google.colab.output.renderOutput(dataTable, element);\n",
              "          const docLink = document.createElement('div');\n",
              "          docLink.innerHTML = docLinkHtml;\n",
              "          element.appendChild(docLink);\n",
              "        }\n",
              "      </script>\n",
              "    </div>\n",
              "  </div>\n",
              "  "
            ],
            "text/plain": [
              "                                         ChapterText\n",
              "1      CHAPTER XXXI      Invasion of Italy by Ala...\n",
              "2      CHAPTER LIV      Origin and Doctrine of th..."
            ]
          },
          "metadata": {},
          "output_type": "display_data"
        }
      ],
      "source": [
        "#Grab our individual chapters to analyze\n",
        "chapter_number1 = \"31\"\n",
        "chapter_number2 = \"54\"\n",
        "\n",
        "for i in range(len(chapter_list)):\n",
        "  chap_num = chapter_list[i].get('n')\n",
        "  if chap_num == chapter_number1:\n",
        "    text1 = chapter_list[i].get_text()\n",
        "  if chap_num == chapter_number2:\n",
        "    text2 = chapter_list[i].get_text()\n",
        "\n",
        "#Ensure our chapters were correctly accessed\n",
        "if ('text1' not in vars()) or ('text2' not in vars()):\n",
        "    raise Exception(\"Invalid Chapter Numbers. Try Again\")\n",
        "\n",
        "#Clean our chapters\n",
        "full_text1 = text1.replace('\\n', ' ')\n",
        "full_text2 = text2.replace('\\n', ' ')\n",
        "\n",
        "#ch1l = full_text1.split()\n",
        "#ch2l = full_text2.split()\n",
        "#both_chapters_list = ch1l + ch2l\n",
        "\n",
        "ch_dict = {\"1\": full_text1, \"2\": full_text2}\n",
        "chdf = pd.DataFrame.from_dict(ch_dict, orient='index').rename(columns={0:'ChapterText'})\n",
        "display(chdf)"
      ]
    },
    {
      "cell_type": "code",
      "execution_count": null,
      "metadata": {
        "colab": {
          "base_uri": "https://localhost:8080/",
          "height": 145
        },
        "id": "8oapsAYPtf2C",
        "outputId": "eb708ac4-c794-41d8-97e4-6b3ab3f45b58"
      },
      "outputs": [
        {
          "name": "stderr",
          "output_type": "stream",
          "text": [
            "/usr/local/lib/python3.10/dist-packages/sklearn/decomposition/_nmf.py:124: RuntimeWarning:\n",
            "\n",
            "invalid value encountered in sqrt\n",
            "\n"
          ]
        },
        {
          "data": {
            "text/html": [
              "<style>#sk-container-id-1 {color: black;background-color: white;}#sk-container-id-1 pre{padding: 0;}#sk-container-id-1 div.sk-toggleable {background-color: white;}#sk-container-id-1 label.sk-toggleable__label {cursor: pointer;display: block;width: 100%;margin-bottom: 0;padding: 0.3em;box-sizing: border-box;text-align: center;}#sk-container-id-1 label.sk-toggleable__label-arrow:before {content: \"▸\";float: left;margin-right: 0.25em;color: #696969;}#sk-container-id-1 label.sk-toggleable__label-arrow:hover:before {color: black;}#sk-container-id-1 div.sk-estimator:hover label.sk-toggleable__label-arrow:before {color: black;}#sk-container-id-1 div.sk-toggleable__content {max-height: 0;max-width: 0;overflow: hidden;text-align: left;background-color: #f0f8ff;}#sk-container-id-1 div.sk-toggleable__content pre {margin: 0.2em;color: black;border-radius: 0.25em;background-color: #f0f8ff;}#sk-container-id-1 input.sk-toggleable__control:checked~div.sk-toggleable__content {max-height: 200px;max-width: 100%;overflow: auto;}#sk-container-id-1 input.sk-toggleable__control:checked~label.sk-toggleable__label-arrow:before {content: \"▾\";}#sk-container-id-1 div.sk-estimator input.sk-toggleable__control:checked~label.sk-toggleable__label {background-color: #d4ebff;}#sk-container-id-1 div.sk-label input.sk-toggleable__control:checked~label.sk-toggleable__label {background-color: #d4ebff;}#sk-container-id-1 input.sk-hidden--visually {border: 0;clip: rect(1px 1px 1px 1px);clip: rect(1px, 1px, 1px, 1px);height: 1px;margin: -1px;overflow: hidden;padding: 0;position: absolute;width: 1px;}#sk-container-id-1 div.sk-estimator {font-family: monospace;background-color: #f0f8ff;border: 1px dotted black;border-radius: 0.25em;box-sizing: border-box;margin-bottom: 0.5em;}#sk-container-id-1 div.sk-estimator:hover {background-color: #d4ebff;}#sk-container-id-1 div.sk-parallel-item::after {content: \"\";width: 100%;border-bottom: 1px solid gray;flex-grow: 1;}#sk-container-id-1 div.sk-label:hover label.sk-toggleable__label {background-color: #d4ebff;}#sk-container-id-1 div.sk-serial::before {content: \"\";position: absolute;border-left: 1px solid gray;box-sizing: border-box;top: 0;bottom: 0;left: 50%;z-index: 0;}#sk-container-id-1 div.sk-serial {display: flex;flex-direction: column;align-items: center;background-color: white;padding-right: 0.2em;padding-left: 0.2em;position: relative;}#sk-container-id-1 div.sk-item {position: relative;z-index: 1;}#sk-container-id-1 div.sk-parallel {display: flex;align-items: stretch;justify-content: center;background-color: white;position: relative;}#sk-container-id-1 div.sk-item::before, #sk-container-id-1 div.sk-parallel-item::before {content: \"\";position: absolute;border-left: 1px solid gray;box-sizing: border-box;top: 0;bottom: 0;left: 50%;z-index: -1;}#sk-container-id-1 div.sk-parallel-item {display: flex;flex-direction: column;z-index: 1;position: relative;background-color: white;}#sk-container-id-1 div.sk-parallel-item:first-child::after {align-self: flex-end;width: 50%;}#sk-container-id-1 div.sk-parallel-item:last-child::after {align-self: flex-start;width: 50%;}#sk-container-id-1 div.sk-parallel-item:only-child::after {width: 0;}#sk-container-id-1 div.sk-dashed-wrapped {border: 1px dashed gray;margin: 0 0.4em 0.5em 0.4em;box-sizing: border-box;padding-bottom: 0.4em;background-color: white;}#sk-container-id-1 div.sk-label label {font-family: monospace;font-weight: bold;display: inline-block;line-height: 1.2em;}#sk-container-id-1 div.sk-label-container {text-align: center;}#sk-container-id-1 div.sk-container {/* jupyter's `normalize.less` sets `[hidden] { display: none; }` but bootstrap.min.css set `[hidden] { display: none !important; }` so we also need the `!important` here to be able to override the default hidden behavior on the sphinx rendered scikit-learn.org. See: https://github.com/scikit-learn/scikit-learn/issues/21755 */display: inline-block !important;position: relative;}#sk-container-id-1 div.sk-text-repr-fallback {display: none;}</style><div id=\"sk-container-id-1\" class=\"sk-top-container\"><div class=\"sk-text-repr-fallback\"><pre>NMF(n_components=2, random_state=42)</pre><b>In a Jupyter environment, please rerun this cell to show the HTML representation or trust the notebook. <br />On GitHub, the HTML representation is unable to render, please try loading this page with nbviewer.org.</b></div><div class=\"sk-container\" hidden><div class=\"sk-item\"><div class=\"sk-estimator sk-toggleable\"><input class=\"sk-toggleable__control sk-hidden--visually\" id=\"sk-estimator-id-1\" type=\"checkbox\" checked><label for=\"sk-estimator-id-1\" class=\"sk-toggleable__label sk-toggleable__label-arrow\">NMF</label><div class=\"sk-toggleable__content\"><pre>NMF(n_components=2, random_state=42)</pre></div></div></div></div></div>"
            ],
            "text/plain": [
              "NMF(n_components=2, random_state=42)"
            ]
          },
          "execution_count": 21,
          "metadata": {},
          "output_type": "execute_result"
        }
      ],
      "source": [
        "tfidf = TfidfVectorizer(max_df=0.9, min_df=1, stop_words='english')\n",
        "dtm_nmf = tfidf.fit_transform(chdf['ChapterText'])\n",
        "dtm_nmf\n",
        "\n",
        "#By only giving it 2 n_components, we hope that it will create 2 groups, with each group perfectly matching one of the 2 chapters given\n",
        "nmf_model = NMF(n_components=2,random_state=42)\n",
        "nmf_model.fit(dtm_nmf)"
      ]
    },
    {
      "cell_type": "code",
      "execution_count": null,
      "metadata": {
        "colab": {
          "base_uri": "https://localhost:8080/"
        },
        "id": "z_8lkpDZw7O8",
        "outputId": "f9ee42a4-7852-48c0-f604-d10c8f6bfdb9"
      },
      "outputs": [
        {
          "name": "stdout",
          "output_type": "stream",
          "text": [
            "THE TOP 15 WORDS FOR TOPIC #1\n",
            "['spain', 'citizens', 'adolphus', 'senate', 'gaul', 'ravenna', 'barbarian', 'time', 'king', 'romans', 'public', 'gothic', 'alaric', 'honorius', 'goths']\n",
            "\n",
            "\n",
            "THE TOP 15 WORDS FOR TOPIC #2\n",
            "['greek', 'epistles', 'belief', 'reformers', 'sylvanus', 'congregations', 'theology', 'sects', 'manichaeans', 'disciples', 'images', 'catholics', 'persecution', 'doctrine', 'paulicians']\n",
            "\n",
            "\n"
          ]
        }
      ],
      "source": [
        "for index,topic in enumerate(nmf_model.components_):\n",
        "    print(f'THE TOP 15 WORDS FOR TOPIC #{index+1}')\n",
        "    print([tfidf.get_feature_names_out()[i] for i in topic.argsort()[-15:]])\n",
        "    print('\\n')"
      ]
    },
    {
      "cell_type": "markdown",
      "metadata": {
        "id": "wRvlm5Wcfany"
      },
      "source": [
        "## Text Classification\n",
        "We can compare the language in the book we are analyzing with the language of another book, and create a vizualization comparing the differences"
      ]
    },
    {
      "cell_type": "code",
      "execution_count": null,
      "metadata": {
        "colab": {
          "base_uri": "https://localhost:8080/"
        },
        "id": "HBJ26o-_kZBw",
        "outputId": "b566a92a-c945-4f9a-bcb4-c966290145aa"
      },
      "outputs": [
        {
          "data": {
            "text/plain": [
              "['ner', 'tagger']"
            ]
          },
          "execution_count": 56,
          "metadata": {},
          "output_type": "execute_result"
        }
      ],
      "source": [
        "# load spaCy's english model and adjust piplien to deal with large amounts of data\n",
        "nlp = spacy.load('en_core_web_sm')\n",
        "nlp.max_length=2000000\n",
        "nlp.disable_pipes('ner', 'tagger')"
      ]
    },
    {
      "cell_type": "code",
      "execution_count": null,
      "metadata": {
        "id": "MqTYBoZIl063"
      },
      "outputs": [],
      "source": [
        "# opening the Hume text as strings, substitute whatever text interests you\n",
        "with open('./18th-century-historians/hume/hume_strings', 'rb') as f:\n",
        "  hume_strings = pickle.load(f)\n",
        "# opening the Gibbon text as a strings, substitute whatever text interests you\n",
        "with open('./18th-century-historians/gibbon/gibbon_strings', 'rb') as f:\n",
        "  gibbon_strings = pickle.load(f)"
      ]
    },
    {
      "cell_type": "code",
      "execution_count": null,
      "metadata": {
        "colab": {
          "base_uri": "https://localhost:8080/"
        },
        "id": "eCeZDL_CloJ1",
        "outputId": "82f299bd-f687-4fef-8a43-da1be70f3475"
      },
      "outputs": [
        {
          "name": "stderr",
          "output_type": "stream",
          "text": [
            "<ipython-input-58-f74c93f96071>:4: FutureWarning:\n",
            "\n",
            "The frame.append method is deprecated and will be removed from pandas in a future version. Use pandas.concat instead.\n",
            "\n"
          ]
        }
      ],
      "source": [
        "# ScatterText expects its data in a dataframe, so I'm putting the texts into that format\n",
        "gibbon_df = pd.DataFrame(data={'author': 'Gibbon', 'text': gibbon_strings})\n",
        "hume_df = pd.DataFrame(data={'author': 'Hume', 'text': hume_strings})\n",
        "author_df = gibbon_df.append(hume_df)"
      ]
    },
    {
      "cell_type": "code",
      "execution_count": null,
      "metadata": {
        "colab": {
          "base_uri": "https://localhost:8080/",
          "height": 807
        },
        "id": "_LSyNuXvn8ZV",
        "outputId": "c01b35f5-d5e5-4c03-a7ab-5c6a36626f1d"
      },
      "outputs": [],
      "source": [
        "#process and display our data\n",
        "\n",
        "# this may take a few minutes\n",
        "author_corpus = st.CorpusFromPandas(author_df,\n",
        "                                    category_col='author',\n",
        "                                    text_col='text',\n",
        "                                    nlp=nlp,\n",
        "                                    ).build()\n",
        "\n",
        "html = st.produce_scattertext_explorer(author_corpus, category='Gibbon',\n",
        "                                       category_name='Gibbon',  # this is your first category of comparison\n",
        "                                       not_category_name='Hume',  # this is your second category of comarison\n",
        "                                       minimum_term_frequency=200,\n",
        "                                       width_in_pixels=900)\n",
        "HTML(html)"
      ]
    },
    {
      "cell_type": "markdown",
      "metadata": {
        "id": "1sYMvYJKf9Qa"
      },
      "source": [
        "## Conditional frequency distribution\n",
        "\n",
        "A **conditional frequency distribution** (cfd) is a collection of word counts for a given condition, i.e. category. Here the category is separate chapters in Gibbon, and our model will show us a relative frequency (how often a word appears in the given category relative to other categories) of words in the given chapter. We can chart what used are used most frequently by chapter. This will tell us something about the nature of each chapter."
      ]
    },
    {
      "cell_type": "markdown",
      "metadata": {
        "id": "KG63QU6DIhgZ"
      },
      "source": [
        "### Pre-process text for analysis\n",
        "Before doing NLP work, most texts will need to be preprocessed in different ways. You may need to **tokenize** the text, remove stopwords, or **lemmatize** the text. What you do in pre-processing depends entirely on what your project is."
      ]
    },
    {
      "cell_type": "code",
      "execution_count": null,
      "metadata": {
        "id": "j6PnTHXSrKGi"
      },
      "outputs": [],
      "source": [
        "gibbon_corpus = PlaintextCorpusReader('./18th-century-historians/gibbon/gibbon_decline_and_fall/', '.*\\.txt')"
      ]
    },
    {
      "cell_type": "code",
      "execution_count": null,
      "metadata": {
        "id": "pizh0wfAQkAf"
      },
      "outputs": [],
      "source": [
        "# create pre_processing function\n",
        "lemmatizer = WordNetLemmatizer()\n",
        "def pre_process(doc):\n",
        "  '''\n",
        "  This function pre-processes a string by tokenizing it into words,\n",
        "  removing stop words and punctuation, and lemmatizing each word.\n",
        "  It reutrns a list of lemmas.\n",
        "  '''\n",
        "  doc_lower = doc.lower()\n",
        "  tokens = word_tokenize(doc_lower)  # lowercase all words\n",
        "  tokens_no_stops = [token for token in tokens if not token in stopwords.words('english')]  #remove stop words\n",
        "  tokens_no_stops_no_punct = [token for token in tokens_no_stops if token.isalpha()]  # remove punctuation\n",
        "  lemmas = []\n",
        "  for token in tokens_no_stops_no_punct:\n",
        "    lemma = lemmatizer.lemmatize(token)\n",
        "    lemmas.append(lemma)\n",
        "  return lemmas"
      ]
    },
    {
      "cell_type": "code",
      "execution_count": null,
      "metadata": {
        "id": "W4DhizTlQQOG"
      },
      "outputs": [],
      "source": [
        "# This will take about 5 minutes\n",
        "gibbon_docs = []\n",
        "for fileid in gibbon_corpus.fileids():\n",
        "  raw_text = gibbon_corpus.raw(fileid)\n",
        "  lemmas = pre_process(raw_text)\n",
        "  gibbon_docs.append(lemmas)"
      ]
    },
    {
      "cell_type": "markdown",
      "metadata": {
        "id": "a-i5QjIaJfd-"
      },
      "source": [
        "### Find the most important words by chapter in Gibbon\n"
      ]
    },
    {
      "cell_type": "code",
      "execution_count": null,
      "metadata": {
        "id": "VTGExuH9YyOv"
      },
      "outputs": [],
      "source": [
        "# The tool requires a string as input rather than a list\n",
        "gibbon_doc_strings = []\n",
        "for doc in gibbon_docs:\n",
        "  string = ' '.join(doc)\n",
        "  gibbon_doc_strings.append(string)\n"
      ]
    },
    {
      "cell_type": "code",
      "execution_count": null,
      "metadata": {
        "id": "jjctTms2WWar"
      },
      "outputs": [],
      "source": [
        "# transform corpus into a matrix of word counts\n",
        "vectorizer = TfidfVectorizer(max_df=.65, min_df=1, stop_words=None,\n",
        "                             use_idf= True, norm=None)\n",
        "transformed_docs = vectorizer.fit_transform(gibbon_doc_strings)\n",
        "transformed_docs_as_array = transformed_docs.toarray()"
      ]
    },
    {
      "cell_type": "code",
      "execution_count": null,
      "metadata": {
        "id": "VFR-PdNBWyhA"
      },
      "outputs": [],
      "source": [
        "gibbon_key_vocab_by_chap = {}\n",
        "for doc, fileid in zip(transformed_docs_as_array, gibbon_corpus.fileids()):\n",
        "  tf_idf_tuples = list(zip(vectorizer.get_feature_names_out(), doc))\n",
        "  sorted_tf_idf_tuples = sorted(tf_idf_tuples, key= lambda x: x[1], reverse=True)\n",
        "  k = fileid[23:29]\n",
        "  v = sorted_tf_idf_tuples[:10]\n",
        "  gibbon_key_vocab_by_chap[k] = v"
      ]
    },
    {
      "cell_type": "code",
      "execution_count": null,
      "metadata": {
        "colab": {
          "base_uri": "https://localhost:8080/"
        },
        "id": "lOtAg3yrN2n6",
        "outputId": "98932959-8a1e-4ef5-b50e-178072af21f2"
      },
      "outputs": [
        {
          "name": "stdout",
          "output_type": "stream",
          "text": [
            "chap01 => hadrian, trajan, antoninus, mediterranean, antonines\n",
            "chap02 => atticus, antonines, herod, gaul, athens\n",
            "chap03 => hadrian, caligula, domitian, tribunitian, adoption\n",
            "chap04 => commodus, pertinax, cleander, marcus, perennis\n",
            "chap05 => severus, niger, albinus, pertinax, praetorian\n",
            "chap06 => caracalla, macrinus, elagabalus, severus, alexander\n",
            "chap07 => maximin, gordian, gordians, balbinus, maximus\n",
            "chap08 => artaxerxes, parthian, zoroaster, persia, seleucia\n",
            "chap09 => tacitus, rhine, warrior, reindeer, iron\n",
            "chap10 => goth, valerian, gallienus, decius, sapor\n",
            "chap11 => aurelian, zenobia, claudius, palmyra, tetricus\n",
            "chap12 => probus, carus, carinus, tacitus, aurelian\n",
            "chap13 => diocletian, maximian, galerius, tiridates, carausius\n",
            "chap14 => licinius, maxentius, galerius, maximian, maximin\n",
            "chap15 => christianity, primitive, jew, doctrine, gentile\n",
            "chap16 => persecution, galerius, edict, diocletian, cyprian\n",
            "chap17 => praefects, byzantium, capitation, praetorian, indiction\n",
            "chap18 => constantius, magnentius, crispus, constans, sapor\n",
            "chap19 => constantius, julian, gallus, sapor, gaul\n",
            "chap20 => christianity, ecclesiastical, licinius, conversion, labarum\n",
            "chap21 => athanasius, constantius, primate, arian, logo\n",
            "chap22 => julian, constantius, florentius, gaul, nevitta\n",
            "chap23 => julian, pagan, daphne, athanasius, galilean\n",
            "chap24 => julian, jovian, tigris, sapor, antioch\n",
            "chap25 => valentinian, valens, jovian, para, saxon\n",
            "chap26 => valens, hun, goth, fritigern, gothic\n",
            "chap27 => theodosius, ambrose, arbogastes, valentinian, milan\n",
            "chap28 => serapis, pagan, martyr, theodosius, relic\n",
            "chap29 => rufinus, stilicho, gildo, honorius, arcadius\n",
            "chap30 => stilicho, alaric, honorius, gothic, radagaisus\n",
            "chap31 => honorius, goth, adolphus, alaric, attalus\n",
            "chap32 => arcadius, eutropius, chrysostom, gainas, theodosius\n",
            "chap33 => vandal, boniface, placidia, genseric, aetius\n",
            "chap34 => attila, hun, theodosius, maximin, onegesius\n",
            "chap35 => attila, aetius, hun, valentinian, theodoric\n",
            "chap36 => ricimer, majorian, anthemius, genseric, vandal\n",
            "chap37 => monk, hunneric, catholic, monastic, monastery\n",
            "chap38 => clovis, frank, saxon, gaul, merovingian\n",
            "chap39 => theodoric, boethius, gothic, goth, odoacer\n",
            "chap40 => justinian, theodora, anastasius, blue, justin\n",
            "chap41 => belisarius, vandal, antonina, gelimer, goth\n",
            "chap42 => chosroes, justinian, colchos, phasis, nushirvan\n",
            "chap43 => totila, belisarius, justinian, narses, goth\n",
            "chap44 => civilian, justinian, jurisprudence, praetor, decemvirs\n",
            "chap45 => lombard, alboin, justin, rosamond, autharis\n",
            "chap46 => heraclius, chosroes, phoca, maurice, hormouz\n",
            "chap47 => cyril, nestorius, patriarch, monophysite, synod\n",
            "chap48 => michael, romanus, zoe, basil, leo\n",
            "chap49 => charlemagne, pope, lombard, otho, carlovingian\n",
            "chap50 => mahomet, mecca, medina, prophet, ali\n",
            "chap51 => medina, omar, mahomet, caliph, abubeker\n",
            "chap52 => caliph, abbassides, saracen, bagdad, ommiad\n",
            "chap53 => peloponesus, byzantine, porphyrogenitus, tactic, frank\n",
            "chap54 => paulicians, manichaean, tephrice, catholic, paul\n",
            "chap55 => russian, hungarian, kiow, swatoslaus, bulgarian\n",
            "chap56 => norman, roger, robert, guiscard, sicily\n",
            "chap57 => sultan, arslan, mahmud, togrul, caliph\n",
            "chap58 => godfrey, crusader, bohemond, raymond, jerusalem\n",
            "chap59 => saladin, sultan, crusade, louis, jerusalem\n",
            "chap60 => alexius, venetian, doge, french, isaac\n",
            "chap61 => courtenay, baldwin, baron, henry, courtenays\n",
            "chap62 => palaeologus, catalan, michael, vataces, lascaris\n",
            "chap63 => cantacuzene, andronicus, genoese, pera, palaeologus\n",
            "chap64 => mogul, zingis, khan, orchan, bajazet\n",
            "chap65 => timour, bajazet, mogul, ottoman, sultan\n",
            "chap66 => palaeologus, pope, manuel, florence, petrarch\n",
            "chap67 => huniades, amurath, ladislaus, scanderbeg, sultan\n",
            "chap68 => mahomet, sultan, ottoman, cannon, turk\n",
            "chap69 => pope, colonna, cardinal, arnold, peter\n",
            "chap70 => rienzi, colonna, avignon, pope, petrarch\n",
            "chap71 => coliseum, poggius, arch, colonna, amphitheatre\n"
          ]
        }
      ],
      "source": [
        "for k, v in gibbon_key_vocab_by_chap.items():\n",
        "  result = k + ' => ' + v[0][0] + ', ' + v[1][0] + ', ' + v[2][0] + ', ' + v[3][0] + ', ' + v[4][0]\n",
        "  print(result)"
      ]
    },
    {
      "cell_type": "code",
      "execution_count": null,
      "metadata": {
        "colab": {
          "base_uri": "https://localhost:8080/"
        },
        "id": "Ujc-mmSMZohr",
        "outputId": "d2e21fc2-5c85-4c9d-c609-545517c4c2b4"
      },
      "outputs": [
        {
          "data": {
            "text/plain": [
              "[('persecution', 155.43864657400138),\n",
              " ('galerius', 121.49453393877634),\n",
              " ('edict', 110.04987891204898),\n",
              " ('diocletian', 107.00509529568842),\n",
              " ('cyprian', 104.70101241711441),\n",
              " ('martyr', 101.46903778032578),\n",
              " ('maximin', 80.06548008367572),\n",
              " ('martyrdom', 67.51687454474039),\n",
              " ('sect', 63.01100139839618),\n",
              " ('christianity', 57.160319936476284)]"
            ]
          },
          "execution_count": 30,
          "metadata": {},
          "output_type": "execute_result"
        }
      ],
      "source": [
        "# explore vocabulary\n",
        "gibbon_key_vocab_by_chap['chap16']  # <-- you can investigate other chapters"
      ]
    },
    {
      "cell_type": "markdown",
      "metadata": {
        "id": "wLqk60Z2p5bF"
      },
      "source": [
        "### CFD and Plot"
      ]
    },
    {
      "cell_type": "code",
      "execution_count": null,
      "metadata": {
        "colab": {
          "base_uri": "https://localhost:8080/"
        },
        "id": "cp-vlGgoMaFL",
        "outputId": "f7bae82c-3d34-43e9-b0ba-4004173cdbb1"
      },
      "outputs": [
        {
          "data": {
            "image/png": "[encoded data removed]",
            "text/plain": [
              "<Figure size 2000x800 with 1 Axes>"
            ]
          },
          "metadata": {},
          "output_type": "display_data"
        },
        {
          "data": {
            "text/plain": [
              "<Axes: xlabel='Samples', ylabel='Counts'>"
            ]
          },
          "execution_count": 31,
          "metadata": {},
          "output_type": "execute_result"
        }
      ],
      "source": [
        "# conditional frequency distribution\n",
        "cfd = nltk.ConditionalFreqDist(\n",
        "    (target, fileid[23:29])  # just display the chapter (i.e. \"chap01\")\n",
        "    for fileid in gibbon_corpus.fileids()\n",
        "    for word in gibbon_corpus.words(fileid)\n",
        "    for target in ['romans', 'franks', 'huns', 'goths', 'vandals', 'arabs', 'turks',]  # <-- instert token(s) to explore (lowercase)\n",
        "    if word.lower().startswith(target)\n",
        ")\n",
        "# display plot\n",
        "plt.figure(figsize=(20, 8))  # this expands the plot to make it more readable\n",
        "cfd.plot()"
      ]
    }
  ],
  "metadata": {
    "colab": {
      "collapsed_sections": [
        "WyhyGVMc8TGi",
        "-xo8ARIzfodk",
        "gRT-RqdMqFC2",
        "1sYMvYJKf9Qa"
      ],
      "provenance": []
    },
    "kernelspec": {
      "display_name": "Python 3",
      "name": "python3"
    },
    "language_info": {
      "name": "python"
    }
  },
  "nbformat": 4,
  "nbformat_minor": 0
}
